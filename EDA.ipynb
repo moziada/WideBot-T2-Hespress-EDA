{
 "cells": [
  {
   "cell_type": "markdown",
   "metadata": {},
   "source": [
    "# Hespress Stories EDA"
   ]
  },
  {
   "cell_type": "code",
   "execution_count": 198,
   "metadata": {},
   "outputs": [],
   "source": [
    "import pandas as pd\n",
    "import numpy as np\n",
    "import re\n",
    "from pathlib import Path\n",
    "import plotly.express as px\n",
    "\n",
    "DATAPATH = Path(\"Data\")\n",
    "STORIES_FILES = [\n",
    "    'stories_art-et-culture.csv',\n",
    "    'stories_economie.csv',\n",
    "    'stories_faits-divers.csv',\n",
    "    'stories_marocains-du-monde.csv',\n",
    "    'stories_medias.csv',\n",
    "    'stories_orbites.csv',\n",
    "    'stories_politique.csv',\n",
    "    'stories_regions.csv',\n",
    "    'stories_societe.csv',\n",
    "    'stories_sport.csv',\n",
    "    'stories_tamazight.csv'\n",
    "]"
   ]
  },
  {
   "cell_type": "markdown",
   "metadata": {},
   "source": [
    "## Read Data"
   ]
  },
  {
   "cell_type": "code",
   "execution_count": 144,
   "metadata": {},
   "outputs": [
    {
     "data": {
      "text/html": [
       "<div>\n",
       "<style scoped>\n",
       "    .dataframe tbody tr th:only-of-type {\n",
       "        vertical-align: middle;\n",
       "    }\n",
       "\n",
       "    .dataframe tbody tr th {\n",
       "        vertical-align: top;\n",
       "    }\n",
       "\n",
       "    .dataframe thead th {\n",
       "        text-align: right;\n",
       "    }\n",
       "</style>\n",
       "<table border=\"1\" class=\"dataframe\">\n",
       "  <thead>\n",
       "    <tr style=\"text-align: right;\">\n",
       "      <th></th>\n",
       "      <th>id</th>\n",
       "      <th>title</th>\n",
       "      <th>date</th>\n",
       "      <th>author</th>\n",
       "      <th>story</th>\n",
       "      <th>topic</th>\n",
       "    </tr>\n",
       "  </thead>\n",
       "  <tbody>\n",
       "    <tr>\n",
       "      <th>0</th>\n",
       "      <td>f06aa998054e11eba66e646e69d991ea</td>\n",
       "      <td>\"بيت الشعر\" يسائل وزير الثقافة عن كوابيس سوداء</td>\n",
       "      <td>الجمعة 02 أكتوبر 2020 - 23:19</td>\n",
       "      <td>هسبريس من الرباط</td>\n",
       "      <td>وجه \"بيت الشعر في المغرب\" إلى وزير الثقافة وال...</td>\n",
       "      <td>art-et-culture</td>\n",
       "    </tr>\n",
       "    <tr>\n",
       "      <th>1</th>\n",
       "      <td>f1cf1b9c054e11ebb718646e69d991ea</td>\n",
       "      <td>مهرجان \"سينما المؤلّف\" يستحضر روح ثريا جبران</td>\n",
       "      <td>الجمعة 02 أكتوبر 2020 - 07:26</td>\n",
       "      <td>هسبريس من الرباط</td>\n",
       "      <td>في ظلّ استمرار حالة الطوارئ الصحية المرتبطة بج...</td>\n",
       "      <td>art-et-culture</td>\n",
       "    </tr>\n",
       "    <tr>\n",
       "      <th>2</th>\n",
       "      <td>f2d282a4054e11eb800f646e69d991ea</td>\n",
       "      <td>فيلم \"بدون عنف\" لهشام العسري ..\"كعب الحذاء ووا...</td>\n",
       "      <td>الجمعة 02 أكتوبر 2020 - 04:00</td>\n",
       "      <td>عفيفة الحسينات*</td>\n",
       "      <td>تشير مشاهدة فيلم قصير ضمن الثلاثية الأخيرة للم...</td>\n",
       "      <td>art-et-culture</td>\n",
       "    </tr>\n",
       "    <tr>\n",
       "      <th>3</th>\n",
       "      <td>f3f46cac054e11eba403646e69d991ea</td>\n",
       "      <td>\"تنين ووهان\" .. مريم أيت أحمد توقِّع أولى \"روا...</td>\n",
       "      <td>الجمعة 02 أكتوبر 2020 - 02:00</td>\n",
       "      <td>حاورَها: وائل بورشاشن</td>\n",
       "      <td>مِن قَلب أيّام \"الحَجْر\"، رأتِ النّورَ الفصول ...</td>\n",
       "      <td>art-et-culture</td>\n",
       "    </tr>\n",
       "    <tr>\n",
       "      <th>4</th>\n",
       "      <td>f50f0476054e11eba31b646e69d991ea</td>\n",
       "      <td>مسكر يتخلّى عن دعم \"الوزارة\" بسبب \"الجمهور\"</td>\n",
       "      <td>الخميس 01 أكتوبر 2020 - 19:40</td>\n",
       "      <td>هسبريس من الرباط</td>\n",
       "      <td>أعلن الفنان المغربيّ سعيد مسكر تخليه عن مبلغ ا...</td>\n",
       "      <td>art-et-culture</td>\n",
       "    </tr>\n",
       "  </tbody>\n",
       "</table>\n",
       "</div>"
      ],
      "text/plain": [
       "                                 id  \\\n",
       "0  f06aa998054e11eba66e646e69d991ea   \n",
       "1  f1cf1b9c054e11ebb718646e69d991ea   \n",
       "2  f2d282a4054e11eb800f646e69d991ea   \n",
       "3  f3f46cac054e11eba403646e69d991ea   \n",
       "4  f50f0476054e11eba31b646e69d991ea   \n",
       "\n",
       "                                               title  \\\n",
       "0     \"بيت الشعر\" يسائل وزير الثقافة عن كوابيس سوداء   \n",
       "1       مهرجان \"سينما المؤلّف\" يستحضر روح ثريا جبران   \n",
       "2  فيلم \"بدون عنف\" لهشام العسري ..\"كعب الحذاء ووا...   \n",
       "3  \"تنين ووهان\" .. مريم أيت أحمد توقِّع أولى \"روا...   \n",
       "4        مسكر يتخلّى عن دعم \"الوزارة\" بسبب \"الجمهور\"   \n",
       "\n",
       "                            date                 author  \\\n",
       "0  الجمعة 02 أكتوبر 2020 - 23:19       هسبريس من الرباط   \n",
       "1  الجمعة 02 أكتوبر 2020 - 07:26       هسبريس من الرباط   \n",
       "2  الجمعة 02 أكتوبر 2020 - 04:00        عفيفة الحسينات*   \n",
       "3  الجمعة 02 أكتوبر 2020 - 02:00  حاورَها: وائل بورشاشن   \n",
       "4  الخميس 01 أكتوبر 2020 - 19:40       هسبريس من الرباط   \n",
       "\n",
       "                                               story           topic  \n",
       "0  وجه \"بيت الشعر في المغرب\" إلى وزير الثقافة وال...  art-et-culture  \n",
       "1  في ظلّ استمرار حالة الطوارئ الصحية المرتبطة بج...  art-et-culture  \n",
       "2  تشير مشاهدة فيلم قصير ضمن الثلاثية الأخيرة للم...  art-et-culture  \n",
       "3  مِن قَلب أيّام \"الحَجْر\"، رأتِ النّورَ الفصول ...  art-et-culture  \n",
       "4  أعلن الفنان المغربيّ سعيد مسكر تخليه عن مبلغ ا...  art-et-culture  "
      ]
     },
     "execution_count": 144,
     "metadata": {},
     "output_type": "execute_result"
    }
   ],
   "source": [
    "dfs = []\n",
    "for file in STORIES_FILES:\n",
    "        df = pd.read_csv(DATAPATH / file, index_col=0)\n",
    "        dfs.append(df)\n",
    "stories_df = pd.concat(dfs, ignore_index=True)\n",
    "stories_df.head()"
   ]
  },
  {
   "cell_type": "code",
   "execution_count": 55,
   "metadata": {},
   "outputs": [
    {
     "name": "stdout",
     "output_type": "stream",
     "text": [
      "<class 'pandas.core.frame.DataFrame'>\n",
      "RangeIndex: 11000 entries, 0 to 10999\n",
      "Data columns (total 6 columns):\n",
      " #   Column  Non-Null Count  Dtype \n",
      "---  ------  --------------  ----- \n",
      " 0   id      11000 non-null  object\n",
      " 1   title   11000 non-null  object\n",
      " 2   date    11000 non-null  object\n",
      " 3   author  11000 non-null  object\n",
      " 4   story   11000 non-null  object\n",
      " 5   topic   11000 non-null  object\n",
      "dtypes: object(6)\n",
      "memory usage: 515.8+ KB\n"
     ]
    }
   ],
   "source": [
    "stories_df.info()"
   ]
  },
  {
   "cell_type": "markdown",
   "metadata": {},
   "source": [
    "## Data Processing"
   ]
  },
  {
   "cell_type": "code",
   "execution_count": 145,
   "metadata": {},
   "outputs": [],
   "source": [
    "def arabic_date_parser(date):\n",
    "    morocian_months_mapper = {\n",
    "        'يناير': 'January',\n",
    "        'فبراير': 'February',\n",
    "        'مارس': 'March',\n",
    "        'أبريل': 'April',\n",
    "        'ماي': 'May',\n",
    "        'يونيو': 'June',\n",
    "        'يوليوز': 'July',\n",
    "        'غشت': 'August',\n",
    "        'شتنبر': 'September',\n",
    "        'أكتوبر': 'October',\n",
    "        'نونبر': 'November',\n",
    "        'دجنبر': 'December'\n",
    "    }\n",
    "\n",
    "    date_pattern = r'(السبت|الأحد|الاثنين|الثلاثاء|الأربعاء|الخميس|الجمعة)\\s(?P<day>\\d{2})\\s+(?P<month>يناير|فبراير|مارس|أبريل|ماي|يونيو|يوليوز|غشت|شتنبر|أكتوبر|نونبر|دجنبر)\\s+(?P<year>\\d{4})\\s+-\\s+(?P<time>\\d{2}:\\d{2})'\n",
    "\n",
    "    match = re.match(date_pattern, date)\n",
    "    day = match.group('day')\n",
    "\n",
    "    month = match.group('month')\n",
    "    month = morocian_months_mapper[month]\n",
    "    year = match.group('year')\n",
    "    time = match.group('time')\n",
    "    parsed_date = day + ' ' + month + ' ' + year + ' - ' + time\n",
    "    return parsed_date"
   ]
  },
  {
   "cell_type": "code",
   "execution_count": 146,
   "metadata": {},
   "outputs": [
    {
     "data": {
      "text/html": [
       "<div>\n",
       "<style scoped>\n",
       "    .dataframe tbody tr th:only-of-type {\n",
       "        vertical-align: middle;\n",
       "    }\n",
       "\n",
       "    .dataframe tbody tr th {\n",
       "        vertical-align: top;\n",
       "    }\n",
       "\n",
       "    .dataframe thead th {\n",
       "        text-align: right;\n",
       "    }\n",
       "</style>\n",
       "<table border=\"1\" class=\"dataframe\">\n",
       "  <thead>\n",
       "    <tr style=\"text-align: right;\">\n",
       "      <th></th>\n",
       "      <th>id</th>\n",
       "      <th>title</th>\n",
       "      <th>date</th>\n",
       "      <th>author</th>\n",
       "      <th>story</th>\n",
       "      <th>topic</th>\n",
       "      <th>day</th>\n",
       "      <th>month</th>\n",
       "      <th>year</th>\n",
       "    </tr>\n",
       "  </thead>\n",
       "  <tbody>\n",
       "    <tr>\n",
       "      <th>0</th>\n",
       "      <td>f06aa998054e11eba66e646e69d991ea</td>\n",
       "      <td>\"بيت الشعر\" يسائل وزير الثقافة عن كوابيس سوداء</td>\n",
       "      <td>2020-10-02 23:19:00</td>\n",
       "      <td>هسبريس من الرباط</td>\n",
       "      <td>وجه \"بيت الشعر في المغرب\" إلى وزير الثقافة وال...</td>\n",
       "      <td>art-et-culture</td>\n",
       "      <td>2</td>\n",
       "      <td>10</td>\n",
       "      <td>2020</td>\n",
       "    </tr>\n",
       "    <tr>\n",
       "      <th>1</th>\n",
       "      <td>f1cf1b9c054e11ebb718646e69d991ea</td>\n",
       "      <td>مهرجان \"سينما المؤلّف\" يستحضر روح ثريا جبران</td>\n",
       "      <td>2020-10-02 07:26:00</td>\n",
       "      <td>هسبريس من الرباط</td>\n",
       "      <td>في ظلّ استمرار حالة الطوارئ الصحية المرتبطة بج...</td>\n",
       "      <td>art-et-culture</td>\n",
       "      <td>2</td>\n",
       "      <td>10</td>\n",
       "      <td>2020</td>\n",
       "    </tr>\n",
       "    <tr>\n",
       "      <th>2</th>\n",
       "      <td>f2d282a4054e11eb800f646e69d991ea</td>\n",
       "      <td>فيلم \"بدون عنف\" لهشام العسري ..\"كعب الحذاء ووا...</td>\n",
       "      <td>2020-10-02 04:00:00</td>\n",
       "      <td>عفيفة الحسينات*</td>\n",
       "      <td>تشير مشاهدة فيلم قصير ضمن الثلاثية الأخيرة للم...</td>\n",
       "      <td>art-et-culture</td>\n",
       "      <td>2</td>\n",
       "      <td>10</td>\n",
       "      <td>2020</td>\n",
       "    </tr>\n",
       "    <tr>\n",
       "      <th>3</th>\n",
       "      <td>f3f46cac054e11eba403646e69d991ea</td>\n",
       "      <td>\"تنين ووهان\" .. مريم أيت أحمد توقِّع أولى \"روا...</td>\n",
       "      <td>2020-10-02 02:00:00</td>\n",
       "      <td>حاورَها: وائل بورشاشن</td>\n",
       "      <td>مِن قَلب أيّام \"الحَجْر\"، رأتِ النّورَ الفصول ...</td>\n",
       "      <td>art-et-culture</td>\n",
       "      <td>2</td>\n",
       "      <td>10</td>\n",
       "      <td>2020</td>\n",
       "    </tr>\n",
       "    <tr>\n",
       "      <th>4</th>\n",
       "      <td>f50f0476054e11eba31b646e69d991ea</td>\n",
       "      <td>مسكر يتخلّى عن دعم \"الوزارة\" بسبب \"الجمهور\"</td>\n",
       "      <td>2020-10-01 19:40:00</td>\n",
       "      <td>هسبريس من الرباط</td>\n",
       "      <td>أعلن الفنان المغربيّ سعيد مسكر تخليه عن مبلغ ا...</td>\n",
       "      <td>art-et-culture</td>\n",
       "      <td>1</td>\n",
       "      <td>10</td>\n",
       "      <td>2020</td>\n",
       "    </tr>\n",
       "  </tbody>\n",
       "</table>\n",
       "</div>"
      ],
      "text/plain": [
       "                                 id  \\\n",
       "0  f06aa998054e11eba66e646e69d991ea   \n",
       "1  f1cf1b9c054e11ebb718646e69d991ea   \n",
       "2  f2d282a4054e11eb800f646e69d991ea   \n",
       "3  f3f46cac054e11eba403646e69d991ea   \n",
       "4  f50f0476054e11eba31b646e69d991ea   \n",
       "\n",
       "                                               title                date  \\\n",
       "0     \"بيت الشعر\" يسائل وزير الثقافة عن كوابيس سوداء 2020-10-02 23:19:00   \n",
       "1       مهرجان \"سينما المؤلّف\" يستحضر روح ثريا جبران 2020-10-02 07:26:00   \n",
       "2  فيلم \"بدون عنف\" لهشام العسري ..\"كعب الحذاء ووا... 2020-10-02 04:00:00   \n",
       "3  \"تنين ووهان\" .. مريم أيت أحمد توقِّع أولى \"روا... 2020-10-02 02:00:00   \n",
       "4        مسكر يتخلّى عن دعم \"الوزارة\" بسبب \"الجمهور\" 2020-10-01 19:40:00   \n",
       "\n",
       "                  author                                              story  \\\n",
       "0       هسبريس من الرباط  وجه \"بيت الشعر في المغرب\" إلى وزير الثقافة وال...   \n",
       "1       هسبريس من الرباط  في ظلّ استمرار حالة الطوارئ الصحية المرتبطة بج...   \n",
       "2        عفيفة الحسينات*  تشير مشاهدة فيلم قصير ضمن الثلاثية الأخيرة للم...   \n",
       "3  حاورَها: وائل بورشاشن  مِن قَلب أيّام \"الحَجْر\"، رأتِ النّورَ الفصول ...   \n",
       "4       هسبريس من الرباط  أعلن الفنان المغربيّ سعيد مسكر تخليه عن مبلغ ا...   \n",
       "\n",
       "            topic day month  year  \n",
       "0  art-et-culture   2    10  2020  \n",
       "1  art-et-culture   2    10  2020  \n",
       "2  art-et-culture   2    10  2020  \n",
       "3  art-et-culture   2    10  2020  \n",
       "4  art-et-culture   1    10  2020  "
      ]
     },
     "execution_count": 146,
     "metadata": {},
     "output_type": "execute_result"
    }
   ],
   "source": [
    "stories_df[\"date\"] = pd.to_datetime(stories_df[\"date\"].apply(arabic_date_parser))\n",
    "stories_df[\"day\"] = stories_df[\"date\"].dt.day.astype(\"category\")\n",
    "stories_df[\"month\"] = stories_df[\"date\"].dt.month.astype(\"category\")\n",
    "stories_df[\"year\"] = stories_df[\"date\"].dt.year.astype(\"category\")\n",
    "stories_df.head()"
   ]
  },
  {
   "cell_type": "code",
   "execution_count": 143,
   "metadata": {},
   "outputs": [
    {
     "name": "stdout",
     "output_type": "stream",
     "text": [
      "<class 'pandas.core.frame.DataFrame'>\n",
      "RangeIndex: 11000 entries, 0 to 10999\n",
      "Data columns (total 9 columns):\n",
      " #   Column  Non-Null Count  Dtype         \n",
      "---  ------  --------------  -----         \n",
      " 0   id      11000 non-null  object        \n",
      " 1   title   11000 non-null  object        \n",
      " 2   date    11000 non-null  datetime64[ns]\n",
      " 3   author  11000 non-null  object        \n",
      " 4   story   11000 non-null  object        \n",
      " 5   topic   11000 non-null  object        \n",
      " 6   day     11000 non-null  int64         \n",
      " 7   month   11000 non-null  int64         \n",
      " 8   year    11000 non-null  category      \n",
      "dtypes: category(1), datetime64[ns](1), int64(2), object(5)\n",
      "memory usage: 698.7+ KB\n"
     ]
    }
   ],
   "source": [
    "stories_df.info()"
   ]
  },
  {
   "cell_type": "markdown",
   "metadata": {},
   "source": [
    "## EDA"
   ]
  },
  {
   "cell_type": "markdown",
   "metadata": {},
   "source": [
    "### Stories count per topic"
   ]
  },
  {
   "cell_type": "code",
   "execution_count": 217,
   "metadata": {},
   "outputs": [
    {
     "name": "stdout",
     "output_type": "stream",
     "text": [
      "| topic              |   count |\n",
      "|:-------------------|--------:|\n",
      "| art-et-culture     |    1000 |\n",
      "| economie           |    1000 |\n",
      "| faits-divers       |    1000 |\n",
      "| marocains-du-monde |    1000 |\n",
      "| medias             |    1000 |\n",
      "| orbites            |    1000 |\n",
      "| politique          |    1000 |\n",
      "| regions            |    1000 |\n",
      "| societe            |    1000 |\n",
      "| sport              |    1000 |\n",
      "| tamazight          |    1000 |\n"
     ]
    }
   ],
   "source": [
    "stories_df.groupby(\"topic\").count()[[\"id\"]].rename({\"id\": \"count\"}, axis=1)"
   ]
  },
  {
   "cell_type": "markdown",
   "metadata": {},
   "source": [
    "The data contains 11 diferent topics, exactly 1000 story example per topic."
   ]
  },
  {
   "cell_type": "markdown",
   "metadata": {},
   "source": [
    "### Stories count per topic and year"
   ]
  },
  {
   "cell_type": "code",
   "execution_count": 151,
   "metadata": {},
   "outputs": [
    {
     "data": {
      "application/vnd.plotly.v1+json": {
       "config": {
        "plotlyServerURL": "https://plot.ly"
       },
       "data": [
        {
         "alignmentgroup": "True",
         "hovertemplate": "year=2013<br>topic=%{x}<br>count=%{y}<extra></extra>",
         "legendgroup": "2013",
         "marker": {
          "color": "#636efa",
          "pattern": {
           "shape": ""
          }
         },
         "name": "2013",
         "offsetgroup": "2013",
         "orientation": "v",
         "showlegend": true,
         "textposition": "auto",
         "type": "bar",
         "x": [
          "art-et-culture",
          "economie",
          "faits-divers",
          "marocains-du-monde",
          "medias",
          "orbites",
          "politique",
          "regions",
          "societe",
          "sport",
          "tamazight"
         ],
         "xaxis": "x",
         "y": [
          null,
          null,
          null,
          null,
          null,
          null,
          null,
          null,
          null,
          null,
          37
         ],
         "yaxis": "y"
        },
        {
         "alignmentgroup": "True",
         "hovertemplate": "year=2014<br>topic=%{x}<br>count=%{y}<extra></extra>",
         "legendgroup": "2014",
         "marker": {
          "color": "#EF553B",
          "pattern": {
           "shape": ""
          }
         },
         "name": "2014",
         "offsetgroup": "2014",
         "orientation": "v",
         "showlegend": true,
         "textposition": "auto",
         "type": "bar",
         "x": [
          "art-et-culture",
          "economie",
          "faits-divers",
          "marocains-du-monde",
          "medias",
          "orbites",
          "politique",
          "regions",
          "societe",
          "sport",
          "tamazight"
         ],
         "xaxis": "x",
         "y": [
          null,
          null,
          null,
          null,
          null,
          null,
          null,
          null,
          null,
          null,
          141
         ],
         "yaxis": "y"
        },
        {
         "alignmentgroup": "True",
         "hovertemplate": "year=2015<br>topic=%{x}<br>count=%{y}<extra></extra>",
         "legendgroup": "2015",
         "marker": {
          "color": "#00cc96",
          "pattern": {
           "shape": ""
          }
         },
         "name": "2015",
         "offsetgroup": "2015",
         "orientation": "v",
         "showlegend": true,
         "textposition": "auto",
         "type": "bar",
         "x": [
          "art-et-culture",
          "economie",
          "faits-divers",
          "marocains-du-monde",
          "medias",
          "orbites",
          "politique",
          "regions",
          "societe",
          "sport",
          "tamazight"
         ],
         "xaxis": "x",
         "y": [
          null,
          null,
          null,
          null,
          null,
          null,
          null,
          null,
          null,
          null,
          135
         ],
         "yaxis": "y"
        },
        {
         "alignmentgroup": "True",
         "hovertemplate": "year=2016<br>topic=%{x}<br>count=%{y}<extra></extra>",
         "legendgroup": "2016",
         "marker": {
          "color": "#ab63fa",
          "pattern": {
           "shape": ""
          }
         },
         "name": "2016",
         "offsetgroup": "2016",
         "orientation": "v",
         "showlegend": true,
         "textposition": "auto",
         "type": "bar",
         "x": [
          "art-et-culture",
          "economie",
          "faits-divers",
          "marocains-du-monde",
          "medias",
          "orbites",
          "politique",
          "regions",
          "societe",
          "sport",
          "tamazight"
         ],
         "xaxis": "x",
         "y": [
          null,
          null,
          null,
          null,
          null,
          null,
          null,
          null,
          null,
          null,
          157
         ],
         "yaxis": "y"
        },
        {
         "alignmentgroup": "True",
         "hovertemplate": "year=2017<br>topic=%{x}<br>count=%{y}<extra></extra>",
         "legendgroup": "2017",
         "marker": {
          "color": "#FFA15A",
          "pattern": {
           "shape": ""
          }
         },
         "name": "2017",
         "offsetgroup": "2017",
         "orientation": "v",
         "showlegend": true,
         "textposition": "auto",
         "type": "bar",
         "x": [
          "art-et-culture",
          "economie",
          "faits-divers",
          "marocains-du-monde",
          "medias",
          "orbites",
          "politique",
          "regions",
          "societe",
          "sport",
          "tamazight"
         ],
         "xaxis": "x",
         "y": [
          null,
          null,
          null,
          null,
          null,
          null,
          null,
          null,
          null,
          null,
          112
         ],
         "yaxis": "y"
        },
        {
         "alignmentgroup": "True",
         "hovertemplate": "year=2018<br>topic=%{x}<br>count=%{y}<extra></extra>",
         "legendgroup": "2018",
         "marker": {
          "color": "#19d3f3",
          "pattern": {
           "shape": ""
          }
         },
         "name": "2018",
         "offsetgroup": "2018",
         "orientation": "v",
         "showlegend": true,
         "textposition": "auto",
         "type": "bar",
         "x": [
          "art-et-culture",
          "economie",
          "faits-divers",
          "marocains-du-monde",
          "medias",
          "orbites",
          "politique",
          "regions",
          "societe",
          "sport",
          "tamazight"
         ],
         "xaxis": "x",
         "y": [
          null,
          null,
          null,
          229,
          null,
          null,
          null,
          null,
          null,
          null,
          161
         ],
         "yaxis": "y"
        },
        {
         "alignmentgroup": "True",
         "hovertemplate": "year=2019<br>topic=%{x}<br>count=%{y}<extra></extra>",
         "legendgroup": "2019",
         "marker": {
          "color": "#FF6692",
          "pattern": {
           "shape": ""
          }
         },
         "name": "2019",
         "offsetgroup": "2019",
         "orientation": "v",
         "showlegend": true,
         "textposition": "auto",
         "type": "bar",
         "x": [
          "art-et-culture",
          "economie",
          "faits-divers",
          "marocains-du-monde",
          "medias",
          "orbites",
          "politique",
          "regions",
          "societe",
          "sport",
          "tamazight"
         ],
         "xaxis": "x",
         "y": [
          202,
          null,
          null,
          343,
          516,
          25,
          115,
          null,
          null,
          null,
          169
         ],
         "yaxis": "y"
        },
        {
         "alignmentgroup": "True",
         "hovertemplate": "year=2020<br>topic=%{x}<br>count=%{y}<extra></extra>",
         "legendgroup": "2020",
         "marker": {
          "color": "#B6E880",
          "pattern": {
           "shape": ""
          }
         },
         "name": "2020",
         "offsetgroup": "2020",
         "orientation": "v",
         "showlegend": true,
         "textposition": "auto",
         "type": "bar",
         "x": [
          "art-et-culture",
          "economie",
          "faits-divers",
          "marocains-du-monde",
          "medias",
          "orbites",
          "politique",
          "regions",
          "societe",
          "sport",
          "tamazight"
         ],
         "xaxis": "x",
         "y": [
          798,
          1000,
          1000,
          428,
          484,
          975,
          885,
          1000,
          1000,
          1000,
          88
         ],
         "yaxis": "y"
        }
       ],
       "layout": {
        "barmode": "group",
        "height": 400,
        "legend": {
         "title": {
          "text": "year"
         },
         "tracegroupgap": 0
        },
        "margin": {
         "t": 60
        },
        "template": {
         "data": {
          "bar": [
           {
            "error_x": {
             "color": "#2a3f5f"
            },
            "error_y": {
             "color": "#2a3f5f"
            },
            "marker": {
             "line": {
              "color": "#E5ECF6",
              "width": 0.5
             },
             "pattern": {
              "fillmode": "overlay",
              "size": 10,
              "solidity": 0.2
             }
            },
            "type": "bar"
           }
          ],
          "barpolar": [
           {
            "marker": {
             "line": {
              "color": "#E5ECF6",
              "width": 0.5
             },
             "pattern": {
              "fillmode": "overlay",
              "size": 10,
              "solidity": 0.2
             }
            },
            "type": "barpolar"
           }
          ],
          "carpet": [
           {
            "aaxis": {
             "endlinecolor": "#2a3f5f",
             "gridcolor": "white",
             "linecolor": "white",
             "minorgridcolor": "white",
             "startlinecolor": "#2a3f5f"
            },
            "baxis": {
             "endlinecolor": "#2a3f5f",
             "gridcolor": "white",
             "linecolor": "white",
             "minorgridcolor": "white",
             "startlinecolor": "#2a3f5f"
            },
            "type": "carpet"
           }
          ],
          "choropleth": [
           {
            "colorbar": {
             "outlinewidth": 0,
             "ticks": ""
            },
            "type": "choropleth"
           }
          ],
          "contour": [
           {
            "colorbar": {
             "outlinewidth": 0,
             "ticks": ""
            },
            "colorscale": [
             [
              0,
              "#0d0887"
             ],
             [
              0.1111111111111111,
              "#46039f"
             ],
             [
              0.2222222222222222,
              "#7201a8"
             ],
             [
              0.3333333333333333,
              "#9c179e"
             ],
             [
              0.4444444444444444,
              "#bd3786"
             ],
             [
              0.5555555555555556,
              "#d8576b"
             ],
             [
              0.6666666666666666,
              "#ed7953"
             ],
             [
              0.7777777777777778,
              "#fb9f3a"
             ],
             [
              0.8888888888888888,
              "#fdca26"
             ],
             [
              1,
              "#f0f921"
             ]
            ],
            "type": "contour"
           }
          ],
          "contourcarpet": [
           {
            "colorbar": {
             "outlinewidth": 0,
             "ticks": ""
            },
            "type": "contourcarpet"
           }
          ],
          "heatmap": [
           {
            "colorbar": {
             "outlinewidth": 0,
             "ticks": ""
            },
            "colorscale": [
             [
              0,
              "#0d0887"
             ],
             [
              0.1111111111111111,
              "#46039f"
             ],
             [
              0.2222222222222222,
              "#7201a8"
             ],
             [
              0.3333333333333333,
              "#9c179e"
             ],
             [
              0.4444444444444444,
              "#bd3786"
             ],
             [
              0.5555555555555556,
              "#d8576b"
             ],
             [
              0.6666666666666666,
              "#ed7953"
             ],
             [
              0.7777777777777778,
              "#fb9f3a"
             ],
             [
              0.8888888888888888,
              "#fdca26"
             ],
             [
              1,
              "#f0f921"
             ]
            ],
            "type": "heatmap"
           }
          ],
          "heatmapgl": [
           {
            "colorbar": {
             "outlinewidth": 0,
             "ticks": ""
            },
            "colorscale": [
             [
              0,
              "#0d0887"
             ],
             [
              0.1111111111111111,
              "#46039f"
             ],
             [
              0.2222222222222222,
              "#7201a8"
             ],
             [
              0.3333333333333333,
              "#9c179e"
             ],
             [
              0.4444444444444444,
              "#bd3786"
             ],
             [
              0.5555555555555556,
              "#d8576b"
             ],
             [
              0.6666666666666666,
              "#ed7953"
             ],
             [
              0.7777777777777778,
              "#fb9f3a"
             ],
             [
              0.8888888888888888,
              "#fdca26"
             ],
             [
              1,
              "#f0f921"
             ]
            ],
            "type": "heatmapgl"
           }
          ],
          "histogram": [
           {
            "marker": {
             "pattern": {
              "fillmode": "overlay",
              "size": 10,
              "solidity": 0.2
             }
            },
            "type": "histogram"
           }
          ],
          "histogram2d": [
           {
            "colorbar": {
             "outlinewidth": 0,
             "ticks": ""
            },
            "colorscale": [
             [
              0,
              "#0d0887"
             ],
             [
              0.1111111111111111,
              "#46039f"
             ],
             [
              0.2222222222222222,
              "#7201a8"
             ],
             [
              0.3333333333333333,
              "#9c179e"
             ],
             [
              0.4444444444444444,
              "#bd3786"
             ],
             [
              0.5555555555555556,
              "#d8576b"
             ],
             [
              0.6666666666666666,
              "#ed7953"
             ],
             [
              0.7777777777777778,
              "#fb9f3a"
             ],
             [
              0.8888888888888888,
              "#fdca26"
             ],
             [
              1,
              "#f0f921"
             ]
            ],
            "type": "histogram2d"
           }
          ],
          "histogram2dcontour": [
           {
            "colorbar": {
             "outlinewidth": 0,
             "ticks": ""
            },
            "colorscale": [
             [
              0,
              "#0d0887"
             ],
             [
              0.1111111111111111,
              "#46039f"
             ],
             [
              0.2222222222222222,
              "#7201a8"
             ],
             [
              0.3333333333333333,
              "#9c179e"
             ],
             [
              0.4444444444444444,
              "#bd3786"
             ],
             [
              0.5555555555555556,
              "#d8576b"
             ],
             [
              0.6666666666666666,
              "#ed7953"
             ],
             [
              0.7777777777777778,
              "#fb9f3a"
             ],
             [
              0.8888888888888888,
              "#fdca26"
             ],
             [
              1,
              "#f0f921"
             ]
            ],
            "type": "histogram2dcontour"
           }
          ],
          "mesh3d": [
           {
            "colorbar": {
             "outlinewidth": 0,
             "ticks": ""
            },
            "type": "mesh3d"
           }
          ],
          "parcoords": [
           {
            "line": {
             "colorbar": {
              "outlinewidth": 0,
              "ticks": ""
             }
            },
            "type": "parcoords"
           }
          ],
          "pie": [
           {
            "automargin": true,
            "type": "pie"
           }
          ],
          "scatter": [
           {
            "fillpattern": {
             "fillmode": "overlay",
             "size": 10,
             "solidity": 0.2
            },
            "type": "scatter"
           }
          ],
          "scatter3d": [
           {
            "line": {
             "colorbar": {
              "outlinewidth": 0,
              "ticks": ""
             }
            },
            "marker": {
             "colorbar": {
              "outlinewidth": 0,
              "ticks": ""
             }
            },
            "type": "scatter3d"
           }
          ],
          "scattercarpet": [
           {
            "marker": {
             "colorbar": {
              "outlinewidth": 0,
              "ticks": ""
             }
            },
            "type": "scattercarpet"
           }
          ],
          "scattergeo": [
           {
            "marker": {
             "colorbar": {
              "outlinewidth": 0,
              "ticks": ""
             }
            },
            "type": "scattergeo"
           }
          ],
          "scattergl": [
           {
            "marker": {
             "colorbar": {
              "outlinewidth": 0,
              "ticks": ""
             }
            },
            "type": "scattergl"
           }
          ],
          "scattermapbox": [
           {
            "marker": {
             "colorbar": {
              "outlinewidth": 0,
              "ticks": ""
             }
            },
            "type": "scattermapbox"
           }
          ],
          "scatterpolar": [
           {
            "marker": {
             "colorbar": {
              "outlinewidth": 0,
              "ticks": ""
             }
            },
            "type": "scatterpolar"
           }
          ],
          "scatterpolargl": [
           {
            "marker": {
             "colorbar": {
              "outlinewidth": 0,
              "ticks": ""
             }
            },
            "type": "scatterpolargl"
           }
          ],
          "scatterternary": [
           {
            "marker": {
             "colorbar": {
              "outlinewidth": 0,
              "ticks": ""
             }
            },
            "type": "scatterternary"
           }
          ],
          "surface": [
           {
            "colorbar": {
             "outlinewidth": 0,
             "ticks": ""
            },
            "colorscale": [
             [
              0,
              "#0d0887"
             ],
             [
              0.1111111111111111,
              "#46039f"
             ],
             [
              0.2222222222222222,
              "#7201a8"
             ],
             [
              0.3333333333333333,
              "#9c179e"
             ],
             [
              0.4444444444444444,
              "#bd3786"
             ],
             [
              0.5555555555555556,
              "#d8576b"
             ],
             [
              0.6666666666666666,
              "#ed7953"
             ],
             [
              0.7777777777777778,
              "#fb9f3a"
             ],
             [
              0.8888888888888888,
              "#fdca26"
             ],
             [
              1,
              "#f0f921"
             ]
            ],
            "type": "surface"
           }
          ],
          "table": [
           {
            "cells": {
             "fill": {
              "color": "#EBF0F8"
             },
             "line": {
              "color": "white"
             }
            },
            "header": {
             "fill": {
              "color": "#C8D4E3"
             },
             "line": {
              "color": "white"
             }
            },
            "type": "table"
           }
          ]
         },
         "layout": {
          "annotationdefaults": {
           "arrowcolor": "#2a3f5f",
           "arrowhead": 0,
           "arrowwidth": 1
          },
          "autotypenumbers": "strict",
          "coloraxis": {
           "colorbar": {
            "outlinewidth": 0,
            "ticks": ""
           }
          },
          "colorscale": {
           "diverging": [
            [
             0,
             "#8e0152"
            ],
            [
             0.1,
             "#c51b7d"
            ],
            [
             0.2,
             "#de77ae"
            ],
            [
             0.3,
             "#f1b6da"
            ],
            [
             0.4,
             "#fde0ef"
            ],
            [
             0.5,
             "#f7f7f7"
            ],
            [
             0.6,
             "#e6f5d0"
            ],
            [
             0.7,
             "#b8e186"
            ],
            [
             0.8,
             "#7fbc41"
            ],
            [
             0.9,
             "#4d9221"
            ],
            [
             1,
             "#276419"
            ]
           ],
           "sequential": [
            [
             0,
             "#0d0887"
            ],
            [
             0.1111111111111111,
             "#46039f"
            ],
            [
             0.2222222222222222,
             "#7201a8"
            ],
            [
             0.3333333333333333,
             "#9c179e"
            ],
            [
             0.4444444444444444,
             "#bd3786"
            ],
            [
             0.5555555555555556,
             "#d8576b"
            ],
            [
             0.6666666666666666,
             "#ed7953"
            ],
            [
             0.7777777777777778,
             "#fb9f3a"
            ],
            [
             0.8888888888888888,
             "#fdca26"
            ],
            [
             1,
             "#f0f921"
            ]
           ],
           "sequentialminus": [
            [
             0,
             "#0d0887"
            ],
            [
             0.1111111111111111,
             "#46039f"
            ],
            [
             0.2222222222222222,
             "#7201a8"
            ],
            [
             0.3333333333333333,
             "#9c179e"
            ],
            [
             0.4444444444444444,
             "#bd3786"
            ],
            [
             0.5555555555555556,
             "#d8576b"
            ],
            [
             0.6666666666666666,
             "#ed7953"
            ],
            [
             0.7777777777777778,
             "#fb9f3a"
            ],
            [
             0.8888888888888888,
             "#fdca26"
            ],
            [
             1,
             "#f0f921"
            ]
           ]
          },
          "colorway": [
           "#636efa",
           "#EF553B",
           "#00cc96",
           "#ab63fa",
           "#FFA15A",
           "#19d3f3",
           "#FF6692",
           "#B6E880",
           "#FF97FF",
           "#FECB52"
          ],
          "font": {
           "color": "#2a3f5f"
          },
          "geo": {
           "bgcolor": "white",
           "lakecolor": "white",
           "landcolor": "#E5ECF6",
           "showlakes": true,
           "showland": true,
           "subunitcolor": "white"
          },
          "hoverlabel": {
           "align": "left"
          },
          "hovermode": "closest",
          "mapbox": {
           "style": "light"
          },
          "paper_bgcolor": "white",
          "plot_bgcolor": "#E5ECF6",
          "polar": {
           "angularaxis": {
            "gridcolor": "white",
            "linecolor": "white",
            "ticks": ""
           },
           "bgcolor": "#E5ECF6",
           "radialaxis": {
            "gridcolor": "white",
            "linecolor": "white",
            "ticks": ""
           }
          },
          "scene": {
           "xaxis": {
            "backgroundcolor": "#E5ECF6",
            "gridcolor": "white",
            "gridwidth": 2,
            "linecolor": "white",
            "showbackground": true,
            "ticks": "",
            "zerolinecolor": "white"
           },
           "yaxis": {
            "backgroundcolor": "#E5ECF6",
            "gridcolor": "white",
            "gridwidth": 2,
            "linecolor": "white",
            "showbackground": true,
            "ticks": "",
            "zerolinecolor": "white"
           },
           "zaxis": {
            "backgroundcolor": "#E5ECF6",
            "gridcolor": "white",
            "gridwidth": 2,
            "linecolor": "white",
            "showbackground": true,
            "ticks": "",
            "zerolinecolor": "white"
           }
          },
          "shapedefaults": {
           "line": {
            "color": "#2a3f5f"
           }
          },
          "ternary": {
           "aaxis": {
            "gridcolor": "white",
            "linecolor": "white",
            "ticks": ""
           },
           "baxis": {
            "gridcolor": "white",
            "linecolor": "white",
            "ticks": ""
           },
           "bgcolor": "#E5ECF6",
           "caxis": {
            "gridcolor": "white",
            "linecolor": "white",
            "ticks": ""
           }
          },
          "title": {
           "x": 0.05
          },
          "xaxis": {
           "automargin": true,
           "gridcolor": "white",
           "linecolor": "white",
           "ticks": "",
           "title": {
            "standoff": 15
           },
           "zerolinecolor": "white",
           "zerolinewidth": 2
          },
          "yaxis": {
           "automargin": true,
           "gridcolor": "white",
           "linecolor": "white",
           "ticks": "",
           "title": {
            "standoff": 15
           },
           "zerolinecolor": "white",
           "zerolinewidth": 2
          }
         }
        },
        "xaxis": {
         "anchor": "y",
         "domain": [
          0,
          1
         ],
         "title": {
          "text": "topic"
         }
        },
        "yaxis": {
         "anchor": "x",
         "domain": [
          0,
          1
         ],
         "title": {
          "text": "count"
         }
        }
       }
      }
     },
     "metadata": {},
     "output_type": "display_data"
    }
   ],
   "source": [
    "fig = px.bar(stories_df.groupby([\"topic\", \"year\"], as_index=False).count().rename({\"id\": \"count\"}, axis=1),\n",
    "             x=\"topic\", y=\"count\", color='year', barmode='group', height=400)\n",
    "fig.show()"
   ]
  },
  {
   "cell_type": "markdown",
   "metadata": {},
   "source": [
    "Except for `['tamazight', 'medias', 'marocains-du-monde', 'art-et-culture']`, the rest of the topics will have the majority of their 1000 examples by 2020."
   ]
  },
  {
   "cell_type": "markdown",
   "metadata": {},
   "source": [
    "### Stories count per author and topic"
   ]
  },
  {
   "cell_type": "code",
   "execution_count": 176,
   "metadata": {},
   "outputs": [
    {
     "data": {
      "application/vnd.plotly.v1+json": {
       "config": {
        "plotlyServerURL": "https://plot.ly"
       },
       "data": [
        {
         "alignmentgroup": "True",
         "hovertemplate": "topic=sport<br>author=%{x}<br>count=%{y}<extra></extra>",
         "legendgroup": "sport",
         "marker": {
          "color": "#636efa",
          "pattern": {
           "shape": ""
          }
         },
         "name": "sport",
         "offsetgroup": "sport",
         "orientation": "v",
         "showlegend": true,
         "textposition": "auto",
         "type": "bar",
         "x": [
          "أوعنا بلعيد",
          "إبراهيم مغراوي من مراكش",
          "رشيد بيجيكن من أكادير",
          "هسبريس - عبد الإله شبل",
          "هسبريس - و.م.ع",
          "هسبريس - وائل بورشاشن",
          "هسبريس ـ مُتابعة",
          "هسبريس من الدار البيضاء",
          "هسبريس من الرباط",
          "هسبورت - حمزة اشتيوي"
         ],
         "xaxis": "x",
         "y": [
          400,
          3,
          1,
          1,
          1,
          1,
          71,
          2,
          82,
          126
         ],
         "yaxis": "y"
        },
        {
         "alignmentgroup": "True",
         "hovertemplate": "topic=art-et-culture<br>author=%{x}<br>count=%{y}<extra></extra>",
         "legendgroup": "art-et-culture",
         "marker": {
          "color": "#EF553B",
          "pattern": {
           "shape": ""
          }
         },
         "name": "art-et-culture",
         "offsetgroup": "art-et-culture",
         "orientation": "v",
         "showlegend": true,
         "textposition": "auto",
         "type": "bar",
         "x": [
          "إبراهيم مغراوي من مراكش",
          "رشيد الكويرتي من فاس",
          "رشيد بيجيكن من أكادير",
          "هسبريس - أمال كنين",
          "هسبريس - عبد الإله شبل",
          "هسبريس - عبد الرحيم العسري",
          "هسبريس - عبد السلام الشامخ",
          "هسبريس - محمد الراجي",
          "هسبريس - مصطفى شاكري",
          "هسبريس - و.م.ع",
          "هسبريس - وائل بورشاشن",
          "هسبريس - يوسف لخضر",
          "هسبريس ـ مُتابعة",
          "هسبريس من الدار البيضاء",
          "هسبريس من الرباط"
         ],
         "xaxis": "x",
         "y": [
          5,
          3,
          7,
          14,
          1,
          1,
          3,
          21,
          3,
          19,
          108,
          1,
          16,
          9,
          433
         ],
         "yaxis": "y"
        },
        {
         "alignmentgroup": "True",
         "hovertemplate": "topic=economie<br>author=%{x}<br>count=%{y}<extra></extra>",
         "legendgroup": "economie",
         "marker": {
          "color": "#00cc96",
          "pattern": {
           "shape": ""
          }
         },
         "name": "economie",
         "offsetgroup": "economie",
         "orientation": "v",
         "showlegend": true,
         "textposition": "auto",
         "type": "bar",
         "x": [
          "إبراهيم مغراوي من مراكش",
          "رشيد بيجيكن من أكادير",
          "هسبريس - أمال كنين",
          "هسبريس - عبد الإله شبل",
          "هسبريس - عبد الرحيم العسري",
          "هسبريس - عبد السلام الشامخ",
          "هسبريس - محمد الراجي",
          "هسبريس - محمد بلقاسم",
          "هسبريس - مصطفى شاكري",
          "هسبريس - و.م.ع",
          "هسبريس - وائل بورشاشن",
          "هسبريس - يوسف لخضر",
          "هسبريس ـ مُتابعة",
          "هسبريس من الدار البيضاء",
          "هسبريس من الرباط"
         ],
         "xaxis": "x",
         "y": [
          4,
          1,
          34,
          24,
          25,
          3,
          31,
          40,
          10,
          2,
          1,
          68,
          9,
          57,
          489
         ],
         "yaxis": "y"
        },
        {
         "alignmentgroup": "True",
         "hovertemplate": "topic=faits-divers<br>author=%{x}<br>count=%{y}<extra></extra>",
         "legendgroup": "faits-divers",
         "marker": {
          "color": "#ab63fa",
          "pattern": {
           "shape": ""
          }
         },
         "name": "faits-divers",
         "offsetgroup": "faits-divers",
         "orientation": "v",
         "showlegend": true,
         "textposition": "auto",
         "type": "bar",
         "x": [
          "إبراهيم مغراوي من مراكش",
          "رشيد الكويرتي من فاس",
          "رشيد بيجيكن من أكادير",
          "هسبريس - أمال كنين",
          "هسبريس - عبد الإله شبل",
          "هسبريس - محمد الراجي",
          "هسبريس - و.م.ع",
          "هسبريس ـ مُتابعة",
          "هسبريس من الدار البيضاء",
          "هسبريس من الرباط"
         ],
         "xaxis": "x",
         "y": [
          104,
          57,
          81,
          3,
          4,
          5,
          1,
          3,
          10,
          259
         ],
         "yaxis": "y"
        },
        {
         "alignmentgroup": "True",
         "hovertemplate": "topic=marocains-du-monde<br>author=%{x}<br>count=%{y}<extra></extra>",
         "legendgroup": "marocains-du-monde",
         "marker": {
          "color": "#FFA15A",
          "pattern": {
           "shape": ""
          }
         },
         "name": "marocains-du-monde",
         "offsetgroup": "marocains-du-monde",
         "orientation": "v",
         "showlegend": true,
         "textposition": "auto",
         "type": "bar",
         "x": [
          "إبراهيم مغراوي من مراكش",
          "هسبريس - أمال كنين",
          "هسبريس - عبد الإله شبل",
          "هسبريس - عبد الرحيم العسري",
          "هسبريس - عبد السلام الشامخ",
          "هسبريس - محمد الراجي",
          "هسبريس - محمد بلقاسم",
          "هسبريس - مصطفى شاكري",
          "هسبريس - و.م.ع",
          "هسبريس - وائل بورشاشن",
          "هسبريس - يوسف لخضر",
          "هسبريس ـ مُتابعة",
          "هسبريس من الدار البيضاء",
          "هسبريس من الرباط"
         ],
         "xaxis": "x",
         "y": [
          2,
          38,
          1,
          19,
          23,
          29,
          2,
          18,
          21,
          15,
          12,
          7,
          8,
          372
         ],
         "yaxis": "y"
        },
        {
         "alignmentgroup": "True",
         "hovertemplate": "topic=orbites<br>author=%{x}<br>count=%{y}<extra></extra>",
         "legendgroup": "orbites",
         "marker": {
          "color": "#19d3f3",
          "pattern": {
           "shape": ""
          }
         },
         "name": "orbites",
         "offsetgroup": "orbites",
         "orientation": "v",
         "showlegend": true,
         "textposition": "auto",
         "type": "bar",
         "x": [
          "إبراهيم مغراوي من مراكش",
          "هسبريس - أمال كنين",
          "هسبريس - عبد الإله شبل",
          "هسبريس - عبد الرحيم العسري",
          "هسبريس - عبد السلام الشامخ",
          "هسبريس - محمد الراجي",
          "هسبريس - محمد بلقاسم",
          "هسبريس - مصطفى شاكري",
          "هسبريس - و.م.ع",
          "هسبريس - وائل بورشاشن",
          "هسبريس - يوسف لخضر",
          "هسبريس ـ مُتابعة",
          "هسبريس من الدار البيضاء",
          "هسبريس من الرباط"
         ],
         "xaxis": "x",
         "y": [
          5,
          24,
          3,
          29,
          42,
          15,
          3,
          25,
          9,
          60,
          5,
          16,
          8,
          437
         ],
         "yaxis": "y"
        },
        {
         "alignmentgroup": "True",
         "hovertemplate": "topic=politique<br>author=%{x}<br>count=%{y}<extra></extra>",
         "legendgroup": "politique",
         "marker": {
          "color": "#FF6692",
          "pattern": {
           "shape": ""
          }
         },
         "name": "politique",
         "offsetgroup": "politique",
         "orientation": "v",
         "showlegend": true,
         "textposition": "auto",
         "type": "bar",
         "x": [
          "إبراهيم مغراوي من مراكش",
          "رشيد الكويرتي من فاس",
          "رشيد بيجيكن من أكادير",
          "هسبريس - أمال كنين",
          "هسبريس - عبد الإله شبل",
          "هسبريس - عبد الرحيم العسري",
          "هسبريس - عبد السلام الشامخ",
          "هسبريس - محمد الراجي",
          "هسبريس - محمد بلقاسم",
          "هسبريس - مصطفى شاكري",
          "هسبريس - و.م.ع",
          "هسبريس - وائل بورشاشن",
          "هسبريس - يوسف لخضر",
          "هسبريس ـ مُتابعة",
          "هسبريس من الدار البيضاء",
          "هسبريس من الرباط"
         ],
         "xaxis": "x",
         "y": [
          3,
          1,
          1,
          15,
          15,
          93,
          42,
          18,
          90,
          23,
          18,
          10,
          11,
          1,
          3,
          441
         ],
         "yaxis": "y"
        },
        {
         "alignmentgroup": "True",
         "hovertemplate": "topic=regions<br>author=%{x}<br>count=%{y}<extra></extra>",
         "legendgroup": "regions",
         "marker": {
          "color": "#B6E880",
          "pattern": {
           "shape": ""
          }
         },
         "name": "regions",
         "offsetgroup": "regions",
         "orientation": "v",
         "showlegend": true,
         "textposition": "auto",
         "type": "bar",
         "x": [
          "إبراهيم مغراوي من مراكش",
          "رشيد الكويرتي من فاس",
          "رشيد بيجيكن من أكادير",
          "هسبريس - أمال كنين",
          "هسبريس - عبد الإله شبل",
          "هسبريس - عبد السلام الشامخ",
          "هسبريس - محمد الراجي",
          "هسبريس - مصطفى شاكري",
          "هسبريس - وائل بورشاشن",
          "هسبريس من الدار البيضاء",
          "هسبريس من الرباط"
         ],
         "xaxis": "x",
         "y": [
          48,
          41,
          47,
          7,
          34,
          5,
          13,
          6,
          5,
          37,
          189
         ],
         "yaxis": "y"
        },
        {
         "alignmentgroup": "True",
         "hovertemplate": "topic=societe<br>author=%{x}<br>count=%{y}<extra></extra>",
         "legendgroup": "societe",
         "marker": {
          "color": "#FF97FF",
          "pattern": {
           "shape": ""
          }
         },
         "name": "societe",
         "offsetgroup": "societe",
         "orientation": "v",
         "showlegend": true,
         "textposition": "auto",
         "type": "bar",
         "x": [
          "إبراهيم مغراوي من مراكش",
          "رشيد الكويرتي من فاس",
          "رشيد بيجيكن من أكادير",
          "هسبريس - أمال كنين",
          "هسبريس - عبد الإله شبل",
          "هسبريس - عبد الرحيم العسري",
          "هسبريس - عبد السلام الشامخ",
          "هسبريس - محمد الراجي",
          "هسبريس - محمد بلقاسم",
          "هسبريس - مصطفى شاكري",
          "هسبريس - وائل بورشاشن",
          "هسبريس - يوسف لخضر",
          "هسبريس من الدار البيضاء",
          "هسبريس من الرباط"
         ],
         "xaxis": "x",
         "y": [
          6,
          1,
          4,
          81,
          24,
          13,
          32,
          96,
          4,
          25,
          16,
          11,
          15,
          523
         ],
         "yaxis": "y"
        },
        {
         "alignmentgroup": "True",
         "hovertemplate": "topic=tamazight<br>author=%{x}<br>count=%{y}<extra></extra>",
         "legendgroup": "tamazight",
         "marker": {
          "color": "#FECB52",
          "pattern": {
           "shape": ""
          }
         },
         "name": "tamazight",
         "offsetgroup": "tamazight",
         "orientation": "v",
         "showlegend": true,
         "textposition": "auto",
         "type": "bar",
         "x": [
          "إبراهيم مغراوي من مراكش",
          "رشيد بيجيكن من أكادير",
          "هسبريس - أمال كنين",
          "هسبريس - عبد الإله شبل",
          "هسبريس - عبد الرحيم العسري",
          "هسبريس - عبد السلام الشامخ",
          "هسبريس - محمد الراجي",
          "هسبريس - محمد بلقاسم",
          "هسبريس - مصطفى شاكري",
          "هسبريس - و.م.ع",
          "هسبريس - وائل بورشاشن",
          "هسبريس - يوسف لخضر",
          "هسبريس ـ مُتابعة",
          "هسبريس من الدار البيضاء",
          "هسبريس من الرباط"
         ],
         "xaxis": "x",
         "y": [
          3,
          14,
          3,
          4,
          3,
          2,
          112,
          3,
          17,
          24,
          10,
          15,
          4,
          7,
          166
         ],
         "yaxis": "y"
        },
        {
         "alignmentgroup": "True",
         "hovertemplate": "topic=medias<br>author=%{x}<br>count=%{y}<extra></extra>",
         "legendgroup": "medias",
         "marker": {
          "color": "#636efa",
          "pattern": {
           "shape": ""
          }
         },
         "name": "medias",
         "offsetgroup": "medias",
         "orientation": "v",
         "showlegend": true,
         "textposition": "auto",
         "type": "bar",
         "x": [
          "هسبريس - أمال كنين",
          "هسبريس - عبد الإله شبل",
          "هسبريس - عبد الرحيم العسري",
          "هسبريس - عبد السلام الشامخ",
          "هسبريس - محمد الراجي",
          "هسبريس - و.م.ع",
          "هسبريس - وائل بورشاشن",
          "هسبريس - يوسف لخضر",
          "هسبريس ـ فاطمة الزهراء صدور",
          "هسبريس ـ مُتابعة",
          "هسبريس من الدار البيضاء",
          "هسبريس من الرباط"
         ],
         "xaxis": "x",
         "y": [
          11,
          25,
          7,
          5,
          4,
          6,
          16,
          1,
          185,
          3,
          18,
          550
         ],
         "yaxis": "y"
        }
       ],
       "layout": {
        "barmode": "group",
        "height": 500,
        "legend": {
         "title": {
          "text": "topic"
         },
         "tracegroupgap": 0
        },
        "margin": {
         "t": 60
        },
        "template": {
         "data": {
          "bar": [
           {
            "error_x": {
             "color": "#2a3f5f"
            },
            "error_y": {
             "color": "#2a3f5f"
            },
            "marker": {
             "line": {
              "color": "#E5ECF6",
              "width": 0.5
             },
             "pattern": {
              "fillmode": "overlay",
              "size": 10,
              "solidity": 0.2
             }
            },
            "type": "bar"
           }
          ],
          "barpolar": [
           {
            "marker": {
             "line": {
              "color": "#E5ECF6",
              "width": 0.5
             },
             "pattern": {
              "fillmode": "overlay",
              "size": 10,
              "solidity": 0.2
             }
            },
            "type": "barpolar"
           }
          ],
          "carpet": [
           {
            "aaxis": {
             "endlinecolor": "#2a3f5f",
             "gridcolor": "white",
             "linecolor": "white",
             "minorgridcolor": "white",
             "startlinecolor": "#2a3f5f"
            },
            "baxis": {
             "endlinecolor": "#2a3f5f",
             "gridcolor": "white",
             "linecolor": "white",
             "minorgridcolor": "white",
             "startlinecolor": "#2a3f5f"
            },
            "type": "carpet"
           }
          ],
          "choropleth": [
           {
            "colorbar": {
             "outlinewidth": 0,
             "ticks": ""
            },
            "type": "choropleth"
           }
          ],
          "contour": [
           {
            "colorbar": {
             "outlinewidth": 0,
             "ticks": ""
            },
            "colorscale": [
             [
              0,
              "#0d0887"
             ],
             [
              0.1111111111111111,
              "#46039f"
             ],
             [
              0.2222222222222222,
              "#7201a8"
             ],
             [
              0.3333333333333333,
              "#9c179e"
             ],
             [
              0.4444444444444444,
              "#bd3786"
             ],
             [
              0.5555555555555556,
              "#d8576b"
             ],
             [
              0.6666666666666666,
              "#ed7953"
             ],
             [
              0.7777777777777778,
              "#fb9f3a"
             ],
             [
              0.8888888888888888,
              "#fdca26"
             ],
             [
              1,
              "#f0f921"
             ]
            ],
            "type": "contour"
           }
          ],
          "contourcarpet": [
           {
            "colorbar": {
             "outlinewidth": 0,
             "ticks": ""
            },
            "type": "contourcarpet"
           }
          ],
          "heatmap": [
           {
            "colorbar": {
             "outlinewidth": 0,
             "ticks": ""
            },
            "colorscale": [
             [
              0,
              "#0d0887"
             ],
             [
              0.1111111111111111,
              "#46039f"
             ],
             [
              0.2222222222222222,
              "#7201a8"
             ],
             [
              0.3333333333333333,
              "#9c179e"
             ],
             [
              0.4444444444444444,
              "#bd3786"
             ],
             [
              0.5555555555555556,
              "#d8576b"
             ],
             [
              0.6666666666666666,
              "#ed7953"
             ],
             [
              0.7777777777777778,
              "#fb9f3a"
             ],
             [
              0.8888888888888888,
              "#fdca26"
             ],
             [
              1,
              "#f0f921"
             ]
            ],
            "type": "heatmap"
           }
          ],
          "heatmapgl": [
           {
            "colorbar": {
             "outlinewidth": 0,
             "ticks": ""
            },
            "colorscale": [
             [
              0,
              "#0d0887"
             ],
             [
              0.1111111111111111,
              "#46039f"
             ],
             [
              0.2222222222222222,
              "#7201a8"
             ],
             [
              0.3333333333333333,
              "#9c179e"
             ],
             [
              0.4444444444444444,
              "#bd3786"
             ],
             [
              0.5555555555555556,
              "#d8576b"
             ],
             [
              0.6666666666666666,
              "#ed7953"
             ],
             [
              0.7777777777777778,
              "#fb9f3a"
             ],
             [
              0.8888888888888888,
              "#fdca26"
             ],
             [
              1,
              "#f0f921"
             ]
            ],
            "type": "heatmapgl"
           }
          ],
          "histogram": [
           {
            "marker": {
             "pattern": {
              "fillmode": "overlay",
              "size": 10,
              "solidity": 0.2
             }
            },
            "type": "histogram"
           }
          ],
          "histogram2d": [
           {
            "colorbar": {
             "outlinewidth": 0,
             "ticks": ""
            },
            "colorscale": [
             [
              0,
              "#0d0887"
             ],
             [
              0.1111111111111111,
              "#46039f"
             ],
             [
              0.2222222222222222,
              "#7201a8"
             ],
             [
              0.3333333333333333,
              "#9c179e"
             ],
             [
              0.4444444444444444,
              "#bd3786"
             ],
             [
              0.5555555555555556,
              "#d8576b"
             ],
             [
              0.6666666666666666,
              "#ed7953"
             ],
             [
              0.7777777777777778,
              "#fb9f3a"
             ],
             [
              0.8888888888888888,
              "#fdca26"
             ],
             [
              1,
              "#f0f921"
             ]
            ],
            "type": "histogram2d"
           }
          ],
          "histogram2dcontour": [
           {
            "colorbar": {
             "outlinewidth": 0,
             "ticks": ""
            },
            "colorscale": [
             [
              0,
              "#0d0887"
             ],
             [
              0.1111111111111111,
              "#46039f"
             ],
             [
              0.2222222222222222,
              "#7201a8"
             ],
             [
              0.3333333333333333,
              "#9c179e"
             ],
             [
              0.4444444444444444,
              "#bd3786"
             ],
             [
              0.5555555555555556,
              "#d8576b"
             ],
             [
              0.6666666666666666,
              "#ed7953"
             ],
             [
              0.7777777777777778,
              "#fb9f3a"
             ],
             [
              0.8888888888888888,
              "#fdca26"
             ],
             [
              1,
              "#f0f921"
             ]
            ],
            "type": "histogram2dcontour"
           }
          ],
          "mesh3d": [
           {
            "colorbar": {
             "outlinewidth": 0,
             "ticks": ""
            },
            "type": "mesh3d"
           }
          ],
          "parcoords": [
           {
            "line": {
             "colorbar": {
              "outlinewidth": 0,
              "ticks": ""
             }
            },
            "type": "parcoords"
           }
          ],
          "pie": [
           {
            "automargin": true,
            "type": "pie"
           }
          ],
          "scatter": [
           {
            "fillpattern": {
             "fillmode": "overlay",
             "size": 10,
             "solidity": 0.2
            },
            "type": "scatter"
           }
          ],
          "scatter3d": [
           {
            "line": {
             "colorbar": {
              "outlinewidth": 0,
              "ticks": ""
             }
            },
            "marker": {
             "colorbar": {
              "outlinewidth": 0,
              "ticks": ""
             }
            },
            "type": "scatter3d"
           }
          ],
          "scattercarpet": [
           {
            "marker": {
             "colorbar": {
              "outlinewidth": 0,
              "ticks": ""
             }
            },
            "type": "scattercarpet"
           }
          ],
          "scattergeo": [
           {
            "marker": {
             "colorbar": {
              "outlinewidth": 0,
              "ticks": ""
             }
            },
            "type": "scattergeo"
           }
          ],
          "scattergl": [
           {
            "marker": {
             "colorbar": {
              "outlinewidth": 0,
              "ticks": ""
             }
            },
            "type": "scattergl"
           }
          ],
          "scattermapbox": [
           {
            "marker": {
             "colorbar": {
              "outlinewidth": 0,
              "ticks": ""
             }
            },
            "type": "scattermapbox"
           }
          ],
          "scatterpolar": [
           {
            "marker": {
             "colorbar": {
              "outlinewidth": 0,
              "ticks": ""
             }
            },
            "type": "scatterpolar"
           }
          ],
          "scatterpolargl": [
           {
            "marker": {
             "colorbar": {
              "outlinewidth": 0,
              "ticks": ""
             }
            },
            "type": "scatterpolargl"
           }
          ],
          "scatterternary": [
           {
            "marker": {
             "colorbar": {
              "outlinewidth": 0,
              "ticks": ""
             }
            },
            "type": "scatterternary"
           }
          ],
          "surface": [
           {
            "colorbar": {
             "outlinewidth": 0,
             "ticks": ""
            },
            "colorscale": [
             [
              0,
              "#0d0887"
             ],
             [
              0.1111111111111111,
              "#46039f"
             ],
             [
              0.2222222222222222,
              "#7201a8"
             ],
             [
              0.3333333333333333,
              "#9c179e"
             ],
             [
              0.4444444444444444,
              "#bd3786"
             ],
             [
              0.5555555555555556,
              "#d8576b"
             ],
             [
              0.6666666666666666,
              "#ed7953"
             ],
             [
              0.7777777777777778,
              "#fb9f3a"
             ],
             [
              0.8888888888888888,
              "#fdca26"
             ],
             [
              1,
              "#f0f921"
             ]
            ],
            "type": "surface"
           }
          ],
          "table": [
           {
            "cells": {
             "fill": {
              "color": "#EBF0F8"
             },
             "line": {
              "color": "white"
             }
            },
            "header": {
             "fill": {
              "color": "#C8D4E3"
             },
             "line": {
              "color": "white"
             }
            },
            "type": "table"
           }
          ]
         },
         "layout": {
          "annotationdefaults": {
           "arrowcolor": "#2a3f5f",
           "arrowhead": 0,
           "arrowwidth": 1
          },
          "autotypenumbers": "strict",
          "coloraxis": {
           "colorbar": {
            "outlinewidth": 0,
            "ticks": ""
           }
          },
          "colorscale": {
           "diverging": [
            [
             0,
             "#8e0152"
            ],
            [
             0.1,
             "#c51b7d"
            ],
            [
             0.2,
             "#de77ae"
            ],
            [
             0.3,
             "#f1b6da"
            ],
            [
             0.4,
             "#fde0ef"
            ],
            [
             0.5,
             "#f7f7f7"
            ],
            [
             0.6,
             "#e6f5d0"
            ],
            [
             0.7,
             "#b8e186"
            ],
            [
             0.8,
             "#7fbc41"
            ],
            [
             0.9,
             "#4d9221"
            ],
            [
             1,
             "#276419"
            ]
           ],
           "sequential": [
            [
             0,
             "#0d0887"
            ],
            [
             0.1111111111111111,
             "#46039f"
            ],
            [
             0.2222222222222222,
             "#7201a8"
            ],
            [
             0.3333333333333333,
             "#9c179e"
            ],
            [
             0.4444444444444444,
             "#bd3786"
            ],
            [
             0.5555555555555556,
             "#d8576b"
            ],
            [
             0.6666666666666666,
             "#ed7953"
            ],
            [
             0.7777777777777778,
             "#fb9f3a"
            ],
            [
             0.8888888888888888,
             "#fdca26"
            ],
            [
             1,
             "#f0f921"
            ]
           ],
           "sequentialminus": [
            [
             0,
             "#0d0887"
            ],
            [
             0.1111111111111111,
             "#46039f"
            ],
            [
             0.2222222222222222,
             "#7201a8"
            ],
            [
             0.3333333333333333,
             "#9c179e"
            ],
            [
             0.4444444444444444,
             "#bd3786"
            ],
            [
             0.5555555555555556,
             "#d8576b"
            ],
            [
             0.6666666666666666,
             "#ed7953"
            ],
            [
             0.7777777777777778,
             "#fb9f3a"
            ],
            [
             0.8888888888888888,
             "#fdca26"
            ],
            [
             1,
             "#f0f921"
            ]
           ]
          },
          "colorway": [
           "#636efa",
           "#EF553B",
           "#00cc96",
           "#ab63fa",
           "#FFA15A",
           "#19d3f3",
           "#FF6692",
           "#B6E880",
           "#FF97FF",
           "#FECB52"
          ],
          "font": {
           "color": "#2a3f5f"
          },
          "geo": {
           "bgcolor": "white",
           "lakecolor": "white",
           "landcolor": "#E5ECF6",
           "showlakes": true,
           "showland": true,
           "subunitcolor": "white"
          },
          "hoverlabel": {
           "align": "left"
          },
          "hovermode": "closest",
          "mapbox": {
           "style": "light"
          },
          "paper_bgcolor": "white",
          "plot_bgcolor": "#E5ECF6",
          "polar": {
           "angularaxis": {
            "gridcolor": "white",
            "linecolor": "white",
            "ticks": ""
           },
           "bgcolor": "#E5ECF6",
           "radialaxis": {
            "gridcolor": "white",
            "linecolor": "white",
            "ticks": ""
           }
          },
          "scene": {
           "xaxis": {
            "backgroundcolor": "#E5ECF6",
            "gridcolor": "white",
            "gridwidth": 2,
            "linecolor": "white",
            "showbackground": true,
            "ticks": "",
            "zerolinecolor": "white"
           },
           "yaxis": {
            "backgroundcolor": "#E5ECF6",
            "gridcolor": "white",
            "gridwidth": 2,
            "linecolor": "white",
            "showbackground": true,
            "ticks": "",
            "zerolinecolor": "white"
           },
           "zaxis": {
            "backgroundcolor": "#E5ECF6",
            "gridcolor": "white",
            "gridwidth": 2,
            "linecolor": "white",
            "showbackground": true,
            "ticks": "",
            "zerolinecolor": "white"
           }
          },
          "shapedefaults": {
           "line": {
            "color": "#2a3f5f"
           }
          },
          "ternary": {
           "aaxis": {
            "gridcolor": "white",
            "linecolor": "white",
            "ticks": ""
           },
           "baxis": {
            "gridcolor": "white",
            "linecolor": "white",
            "ticks": ""
           },
           "bgcolor": "#E5ECF6",
           "caxis": {
            "gridcolor": "white",
            "linecolor": "white",
            "ticks": ""
           }
          },
          "title": {
           "x": 0.05
          },
          "xaxis": {
           "automargin": true,
           "gridcolor": "white",
           "linecolor": "white",
           "ticks": "",
           "title": {
            "standoff": 15
           },
           "zerolinecolor": "white",
           "zerolinewidth": 2
          },
          "yaxis": {
           "automargin": true,
           "gridcolor": "white",
           "linecolor": "white",
           "ticks": "",
           "title": {
            "standoff": 15
           },
           "zerolinecolor": "white",
           "zerolinewidth": 2
          }
         }
        },
        "xaxis": {
         "anchor": "y",
         "domain": [
          0,
          1
         ],
         "title": {
          "text": "author"
         }
        },
        "yaxis": {
         "anchor": "x",
         "domain": [
          0,
          1
         ],
         "title": {
          "text": "count"
         }
        }
       }
      }
     },
     "metadata": {},
     "output_type": "display_data"
    }
   ],
   "source": [
    "active_authors = stories_df.groupby([\"author\"], as_index=False).count()\n",
    "active_authors = active_authors[active_authors[\"id\"]>100][\"author\"].values\n",
    "\n",
    "authors_filtered_df = stories_df[stories_df[\"author\"].isin(active_authors)]\n",
    "\n",
    "fig = px.bar(authors_filtered_df.groupby([\"author\", \"topic\"], as_index=False).count().rename({\"id\": \"count\"}, axis=1),\n",
    "             x=\"author\", y=\"count\", color='topic', barmode='group', height=500)\n",
    "fig.show()"
   ]
  },
  {
   "cell_type": "markdown",
   "metadata": {},
   "source": [
    "It is clear from the plot that famous authors do not write uniformly on various topics."
   ]
  },
  {
   "cell_type": "markdown",
   "metadata": {},
   "source": [
    "### Bigrams analysis"
   ]
  },
  {
   "cell_type": "code",
   "execution_count": 189,
   "metadata": {},
   "outputs": [
    {
     "data": {
      "text/plain": [
       "['00',\n",
       " '00 درهم',\n",
       " '000',\n",
       " '000 00',\n",
       " '000 درهم',\n",
       " '000 شخص',\n",
       " '000 منصب',\n",
       " '01',\n",
       " '02',\n",
       " '03',\n",
       " '04',\n",
       " '04 20',\n",
       " '05',\n",
       " '06',\n",
       " '07',\n",
       " '08',\n",
       " '09',\n",
       " '10',\n",
       " '10 000',\n",
       " '10 آلاف',\n",
       " '10 أبريل',\n",
       " '10 أشخاص',\n",
       " '10 أكتوبر',\n",
       " '10 أيام',\n",
       " '10 إلى',\n",
       " '10 بالمائة',\n",
       " '10 حالات',\n",
       " '10 سنوات',\n",
       " '10 شتنبر',\n",
       " '10 غشت',\n",
       " '10 فبراير',\n",
       " '10 في',\n",
       " '10 لاعبين',\n",
       " '10 مارس',\n",
       " '10 ملايين',\n",
       " '10 مليارات',\n",
       " '10 من',\n",
       " '10 يوليوز',\n",
       " '10 يونيو',\n",
       " '100',\n",
       " '100 000',\n",
       " '100 ألف',\n",
       " '100 حالة',\n",
       " '100 درهم',\n",
       " '100 شخص',\n",
       " '100 في',\n",
       " '100 مدينة',\n",
       " '100 مليار',\n",
       " '100 مليون',\n",
       " '100 من',\n",
       " '100 يوم',\n",
       " '1000',\n",
       " '1000 درهم',\n",
       " '10000',\n",
       " '101',\n",
       " '102',\n",
       " '102 حالة',\n",
       " '103',\n",
       " '104',\n",
       " '104 12',\n",
       " '105',\n",
       " '106',\n",
       " '107',\n",
       " '108',\n",
       " '109',\n",
       " '11',\n",
       " '11 ألف',\n",
       " '11 إلى',\n",
       " '11 حالة',\n",
       " '11 سنة',\n",
       " '11 شتنبر',\n",
       " '11 في',\n",
       " '11 مارس',\n",
       " '11 مباراة',\n",
       " '11 مليار',\n",
       " '11 مليون',\n",
       " '11 من',\n",
       " '11 يناير',\n",
       " '11 يوليوز',\n",
       " '11 يونيو',\n",
       " '110',\n",
       " '111',\n",
       " '112',\n",
       " '113',\n",
       " '113 13',\n",
       " '113 حالة',\n",
       " '114',\n",
       " '114 حالة',\n",
       " '115',\n",
       " '115 حالة',\n",
       " '116',\n",
       " '117',\n",
       " '118',\n",
       " '119',\n",
       " '12',\n",
       " '12 ألف',\n",
       " '12 المتعلق',\n",
       " '12 حالة',\n",
       " '12 ساعة',\n",
       " '12 سنة',\n",
       " '12 شخصا',\n",
       " '12 عاما',\n",
       " '12 غشت',\n",
       " '12 في',\n",
       " '12 مارس',\n",
       " '12 مباراة',\n",
       " '12 مليار',\n",
       " '12 مليون',\n",
       " '12 من',\n",
       " '12 يناير',\n",
       " '12 يونيو',\n",
       " '120',\n",
       " '120 ألف',\n",
       " '120 مليار',\n",
       " '120 مليون',\n",
       " '1200',\n",
       " '121',\n",
       " '122',\n",
       " '123',\n",
       " '124',\n",
       " '125',\n",
       " '126',\n",
       " '127',\n",
       " '128',\n",
       " '129',\n",
       " '13',\n",
       " '13 أبريل',\n",
       " '13 أكتوبر',\n",
       " '13 ألف',\n",
       " '13 إلى',\n",
       " '13 التي',\n",
       " '13 المتعلق',\n",
       " '13 حالة',\n",
       " '13 سنة',\n",
       " '13 شتنبر',\n",
       " '13 غشت',\n",
       " '13 في',\n",
       " '13 مارس',\n",
       " '13 ماي',\n",
       " '13 مباراة',\n",
       " '13 مليار',\n",
       " '13 مليون',\n",
       " '13 من',\n",
       " '13 هدفا',\n",
       " '13 يناير',\n",
       " '130',\n",
       " '130 حالة',\n",
       " '1300',\n",
       " '131',\n",
       " '132',\n",
       " '133',\n",
       " '134',\n",
       " '135',\n",
       " '136',\n",
       " '137',\n",
       " '138',\n",
       " '139',\n",
       " '1393',\n",
       " '1393 مارس',\n",
       " '14',\n",
       " '14 أبريل',\n",
       " '14 إلى',\n",
       " '14 بالمائة',\n",
       " '14 حالة',\n",
       " '14 سنة',\n",
       " '14 غشت',\n",
       " '14 في',\n",
       " '14 مارس',\n",
       " '14 ماي',\n",
       " '14 مليون',\n",
       " '14 من',\n",
       " '14 هدفا',\n",
       " '14 يناير',\n",
       " '14 يوليوز',\n",
       " '14 يوما',\n",
       " '14 يونيو',\n",
       " '140',\n",
       " '1400',\n",
       " '141',\n",
       " '142',\n",
       " '143',\n",
       " '144',\n",
       " '1441',\n",
       " '1441 هـ',\n",
       " '1442',\n",
       " '145',\n",
       " '146',\n",
       " '147',\n",
       " '148',\n",
       " '149',\n",
       " '149 من',\n",
       " '15',\n",
       " '15 ألف',\n",
       " '15 إلى',\n",
       " '15 المتعلق',\n",
       " '15 بالمائة',\n",
       " '15 بتحديد',\n",
       " '15 حالة',\n",
       " '15 دولة',\n",
       " '15 سنة',\n",
       " '15 شتنبر',\n",
       " '15 شخصا',\n",
       " '15 عاما',\n",
       " '15 في',\n",
       " '15 مارس',\n",
       " '15 ماي',\n",
       " '15 مليار',\n",
       " '15 مليون',\n",
       " '15 من',\n",
       " '15 و20',\n",
       " '15 يوليوز',\n",
       " '15 يوما',\n",
       " '15 يونيو',\n",
       " '150',\n",
       " '150 ألف',\n",
       " '150 درهما',\n",
       " '150 مليون',\n",
       " '1500',\n",
       " '1500 درهم',\n",
       " '151',\n",
       " '152',\n",
       " '153',\n",
       " '154',\n",
       " '155',\n",
       " '156',\n",
       " '157',\n",
       " '158',\n",
       " '159',\n",
       " '16',\n",
       " '16 أكتوبر',\n",
       " '16 ألف',\n",
       " '16 المتعلق',\n",
       " '16 حالة',\n",
       " '16 سنة',\n",
       " '16 شتنبر',\n",
       " '16 عاما',\n",
       " '16 في',\n",
       " '16 مارس',\n",
       " '16 ماي',\n",
       " '16 مايو',\n",
       " '16 مليون',\n",
       " '16 من',\n",
       " '16 و17',\n",
       " '16 و22',\n",
       " '16 يوليوز',\n",
       " '16 يونيو',\n",
       " '160',\n",
       " '160 مليون',\n",
       " '1600',\n",
       " '161',\n",
       " '162',\n",
       " '163',\n",
       " '164',\n",
       " '165',\n",
       " '165 حالة',\n",
       " '166',\n",
       " '167',\n",
       " '168',\n",
       " '169',\n",
       " '17',\n",
       " '17 أبريل',\n",
       " '17 أكتوبر',\n",
       " '17 المتعلق',\n",
       " '17 بتغيير',\n",
       " '17 حالة',\n",
       " '17 سنة',\n",
       " '17 شتنبر',\n",
       " '17 غشت',\n",
       " '17 في',\n",
       " '17 مارس',\n",
       " '17 مليون',\n",
       " '17 من',\n",
       " '17 يوليوز',\n",
       " '17 يونيو',\n",
       " '170',\n",
       " '170 مليون',\n",
       " '1700',\n",
       " '171',\n",
       " '172',\n",
       " '175',\n",
       " '176',\n",
       " '177',\n",
       " '178',\n",
       " '179',\n",
       " '18',\n",
       " '18 ألف',\n",
       " '18 حالة',\n",
       " '18 دجنبر',\n",
       " '18 سنة',\n",
       " '18 شهرا',\n",
       " '18 في',\n",
       " '18 مارس',\n",
       " '18 مليار',\n",
       " '18 مليون',\n",
       " '18 من',\n",
       " '18 نونبر',\n",
       " '18 و23',\n",
       " '18 و25',\n",
       " '180',\n",
       " '1800',\n",
       " '182',\n",
       " '183',\n",
       " '1830',\n",
       " '184',\n",
       " '1844',\n",
       " '185',\n",
       " '186',\n",
       " '187',\n",
       " '1870',\n",
       " '1877',\n",
       " '188',\n",
       " '1880',\n",
       " '1883',\n",
       " '1885',\n",
       " '1889',\n",
       " '189',\n",
       " '1894',\n",
       " '1896',\n",
       " '19',\n",
       " '19 25',\n",
       " '19 covid',\n",
       " '19 ألف',\n",
       " '19 أن',\n",
       " '19 أو',\n",
       " '19 إذ',\n",
       " '19 إلى',\n",
       " '19 التي',\n",
       " '19 الذي',\n",
       " '19 المتعلق',\n",
       " '19 بالمغرب',\n",
       " '19 بجهة',\n",
       " '19 بشكل',\n",
       " '19 بعد',\n",
       " '19 بعدما',\n",
       " '19 بعموم',\n",
       " '19 بين',\n",
       " '19 حالة',\n",
       " '19 حيث',\n",
       " '19 خلال',\n",
       " '19 داخل',\n",
       " '19 سنة',\n",
       " '19 عبر',\n",
       " '19 على',\n",
       " '19 غشت',\n",
       " '19 فإن',\n",
       " '19 فقد',\n",
       " '19 في',\n",
       " '19 قبل',\n",
       " '19 قد',\n",
       " '19 كان',\n",
       " '19 كما',\n",
       " '19 لا',\n",
       " '19 لترتفع',\n",
       " '19 لكن',\n",
       " '19 ما',\n",
       " '19 مارس',\n",
       " '19 مع',\n",
       " '19 من',\n",
       " '19 منذ',\n",
       " '19 وأضاف',\n",
       " '19 والتي',\n",
       " '19 ودعا',\n",
       " '19 وذلك',\n",
       " '19 وعلى',\n",
       " '19 وفق',\n",
       " '19 وفي',\n",
       " '19 وقال',\n",
       " '19 وما',\n",
       " '19 ومن',\n",
       " '19 وهو',\n",
       " '19 يوافق',\n",
       " '190',\n",
       " '1904',\n",
       " '1906',\n",
       " '1907',\n",
       " '191',\n",
       " '1912',\n",
       " '1913',\n",
       " '1914',\n",
       " '1915',\n",
       " '1916',\n",
       " '1917',\n",
       " '1918',\n",
       " '1919',\n",
       " '192',\n",
       " '1920',\n",
       " '1921',\n",
       " '1923',\n",
       " '1924',\n",
       " '1926',\n",
       " '1927',\n",
       " '1929',\n",
       " '193',\n",
       " '1930',\n",
       " '1930 لم',\n",
       " '1930 وهذا',\n",
       " '1932',\n",
       " '1936',\n",
       " '1937',\n",
       " '1939',\n",
       " '1942',\n",
       " '1943',\n",
       " '1944',\n",
       " '1945',\n",
       " '1946',\n",
       " '1947',\n",
       " '1948',\n",
       " '1949',\n",
       " '195',\n",
       " '1950',\n",
       " '1952',\n",
       " '1953',\n",
       " '1955',\n",
       " '1956',\n",
       " '1957',\n",
       " '1958',\n",
       " '1959',\n",
       " '196',\n",
       " '1960',\n",
       " '1961',\n",
       " '1962',\n",
       " '1963',\n",
       " '1964',\n",
       " '1965',\n",
       " '1966',\n",
       " '1967',\n",
       " '1968',\n",
       " '1969',\n",
       " '1970',\n",
       " '1971',\n",
       " '1972',\n",
       " '1973',\n",
       " '1973 المعينة',\n",
       " '1974',\n",
       " '1975',\n",
       " '1976',\n",
       " '1977',\n",
       " '1978',\n",
       " '1979',\n",
       " '198',\n",
       " '1980',\n",
       " '1981',\n",
       " '1982',\n",
       " '1983',\n",
       " '1984',\n",
       " '1985',\n",
       " '1986',\n",
       " '1987',\n",
       " '1988',\n",
       " '1989',\n",
       " '1990',\n",
       " '1991',\n",
       " '1992',\n",
       " '1993',\n",
       " '1994',\n",
       " '1995',\n",
       " '1996',\n",
       " '1997',\n",
       " '1998',\n",
       " '1999',\n",
       " '1ـ',\n",
       " '20',\n",
       " '20 000',\n",
       " '20 04',\n",
       " '20 22',\n",
       " '20 292',\n",
       " '20 320',\n",
       " '20 أبريل',\n",
       " '20 ألف',\n",
       " '20 ألفا',\n",
       " '20 إلى',\n",
       " '20 المتعلق',\n",
       " '20 بالمائة',\n",
       " '20 حالة',\n",
       " '20 سنة',\n",
       " '20 شخصا',\n",
       " '20 عام',\n",
       " '20 عاما',\n",
       " '20 غشت',\n",
       " '20 فبراير',\n",
       " '20 في',\n",
       " '20 للسنة',\n",
       " '20 مارس',\n",
       " '20 ماي',\n",
       " '20 مليار',\n",
       " '20 مليون',\n",
       " '20 من',\n",
       " '20 يوليوز',\n",
       " '20 يوما',\n",
       " '20 يونيو',\n",
       " '200',\n",
       " '200 000',\n",
       " '200 ألف',\n",
       " '200 درهم',\n",
       " '200 مليون',\n",
       " '200 ميل',\n",
       " '2000',\n",
       " '2000 إلى',\n",
       " '2000 درهم',\n",
       " '2001',\n",
       " '2002',\n",
       " '2003',\n",
       " '2004',\n",
       " '2005',\n",
       " '2006',\n",
       " '2007',\n",
       " '2008',\n",
       " '2009',\n",
       " '2010',\n",
       " '2011',\n",
       " '2011 إلى',\n",
       " '2011 الذي',\n",
       " '2011 على',\n",
       " '2011 في',\n",
       " '2011 كان',\n",
       " '2011 من',\n",
       " '2011 وقال',\n",
       " '2012',\n",
       " '2012 إلى',\n",
       " '2013',\n",
       " '2013 في',\n",
       " '2014',\n",
       " '2014 إلى',\n",
       " '2014 في',\n",
       " '2015',\n",
       " '2015 2019',\n",
       " '2015 2030',\n",
       " '2015 إلى',\n",
       " '2015 في',\n",
       " '2016',\n",
       " '2016 2017',\n",
       " '2016 إلى',\n",
       " '2016 من',\n",
       " '2016 و2017',\n",
       " '2017',\n",
       " '2017 2018',\n",
       " '2017 إلى',\n",
       " '2017 بعد',\n",
       " '2017 حيث',\n",
       " '2017 في',\n",
       " '2017 و2018',\n",
       " '2018',\n",
       " '2018 2019',\n",
       " '2018 إلى',\n",
       " '2018 التي',\n",
       " '2018 بعد',\n",
       " '2018 تم',\n",
       " '2018 على',\n",
       " '2018 في',\n",
       " '2018 كما',\n",
       " '2018 ما',\n",
       " '2018 من',\n",
       " '2018 والتي',\n",
       " '2019',\n",
       " '2019 2020',\n",
       " '2019 أما',\n",
       " '2019 أن',\n",
       " '2019 أي',\n",
       " '2019 إلى',\n",
       " '2019 التي',\n",
       " '2019 الذي',\n",
       " '2019 بين',\n",
       " '2019 حوالي',\n",
       " '2019 حيث',\n",
       " '2019 على',\n",
       " '2019 عن',\n",
       " '2019 في',\n",
       " '2019 كانت',\n",
       " '2019 كما',\n",
       " '2019 لكن',\n",
       " '2019 ما',\n",
       " '2019 مع',\n",
       " '2019 من',\n",
       " '2019 و5',\n",
       " '2019 وحسب',\n",
       " '2019 وفي',\n",
       " '2019 وهو',\n",
       " '202',\n",
       " '2020',\n",
       " '2020 2021',\n",
       " '2020 2022',\n",
       " '2020 2030',\n",
       " '2020 أن',\n",
       " '2020 أي',\n",
       " '2020 إذ',\n",
       " '2020 إلى',\n",
       " '2020 التي',\n",
       " '2020 الذي',\n",
       " '2020 بالرباط',\n",
       " '2020 بالنسبة',\n",
       " '2020 بعد',\n",
       " '2020 بمجلس',\n",
       " '2020 تحقيق',\n",
       " '2020 حيث',\n",
       " '2020 على',\n",
       " '2020 عوض',\n",
       " '2020 فإن',\n",
       " '2020 فقد',\n",
       " '2020 في',\n",
       " '2020 فيما',\n",
       " '2020 كما',\n",
       " '2020 ما',\n",
       " '2020 مع',\n",
       " '2020 مقابل',\n",
       " '2020 مقارنة',\n",
       " '2020 من',\n",
       " '2020 والتي',\n",
       " '2020 وذلك',\n",
       " '2020 وفي',\n",
       " '2020 وقالت',\n",
       " '2020 وقد',\n",
       " '2020 وهو',\n",
       " '2020 يذكر',\n",
       " '2021',\n",
       " '2021 2020',\n",
       " '2021 إلى',\n",
       " '2021 التي',\n",
       " '2021 على',\n",
       " '2021 في',\n",
       " '2021 قبل',\n",
       " '2021 كما',\n",
       " '2021 مع',\n",
       " '2021 معتبرة',\n",
       " '2021 من',\n",
       " '2021 وفق',\n",
       " '2021 وهو',\n",
       " '2022',\n",
       " '2023',\n",
       " '2024',\n",
       " '2025',\n",
       " '2026',\n",
       " '2027',\n",
       " '2030',\n",
       " '2050',\n",
       " '206',\n",
       " '21',\n",
       " '21 أكتوبر',\n",
       " '21 حالة',\n",
       " '21 سنة',\n",
       " '21 شتنبر',\n",
       " '21 في',\n",
       " '21 مارس',\n",
       " '21 ماي',\n",
       " '21 مليار',\n",
       " '21 مليون',\n",
       " '21 من',\n",
       " '21 و22',\n",
       " '21 يوليوز',\n",
       " '21 يونيو',\n",
       " '210',\n",
       " '211',\n",
       " '211 الصادر',\n",
       " '212',\n",
       " '216',\n",
       " '217',\n",
       " '218',\n",
       " '219',\n",
       " '22',\n",
       " '22 20',\n",
       " '22 أبريل',\n",
       " '22 ألف',\n",
       " '22 ألفا',\n",
       " '22 حالة',\n",
       " '22 سنة',\n",
       " '22 شتنبر',\n",
       " '22 غشت',\n",
       " '22 في',\n",
       " '22 مارس',\n",
       " '22 ماي',\n",
       " '22 مليار',\n",
       " '22 مليون',\n",
       " '22 من',\n",
       " '22 يناير',\n",
       " '22 يوليوز',\n",
       " '22 يونيو',\n",
       " '220',\n",
       " '221',\n",
       " '222',\n",
       " '224',\n",
       " '225',\n",
       " '227',\n",
       " '228',\n",
       " '23',\n",
       " '23 أبريل',\n",
       " '23 حالة',\n",
       " '23 دجنبر',\n",
       " '23 سنة',\n",
       " '23 شتنبر',\n",
       " '23 عاما',\n",
       " '23 غشت',\n",
       " '23 في',\n",
       " '23 مارس',\n",
       " '23 ماي',\n",
       " '23 مليار',\n",
       " '23 من',\n",
       " '23 نقطة',\n",
       " '23 و28',\n",
       " '23 و29',\n",
       " '23 يناير',\n",
       " '23 يوليوز',\n",
       " '230',\n",
       " '231',\n",
       " '232',\n",
       " '235',\n",
       " '24',\n",
       " '24 أبريل',\n",
       " '24 حالة',\n",
       " '24 ساعة',\n",
       " '24 سنة',\n",
       " '24 شتنبر',\n",
       " '24 غشت',\n",
       " '24 في',\n",
       " '24 مارس',\n",
       " '24 من',\n",
       " '24 نقطة',\n",
       " '24 و31',\n",
       " '24 يوليوز',\n",
       " '24 يونيو',\n",
       " '240',\n",
       " '2400',\n",
       " '242',\n",
       " '247',\n",
       " '2494',\n",
       " '25',\n",
       " '25 أبريل',\n",
       " '25 أكتوبر',\n",
       " '25 ألف',\n",
       " '25 بالمائة',\n",
       " '25 حالة',\n",
       " '25 سنة',\n",
       " '25 عاما',\n",
       " '25 في',\n",
       " '25 مارس',\n",
       " '25 مباراة',\n",
       " '25 مليار',\n",
       " '25 مليون',\n",
       " '25 من',\n",
       " '25 يناير',\n",
       " '25 يونيو',\n",
       " '250',\n",
       " '250 ألف',\n",
       " '2500',\n",
       " '257',\n",
       " '258',\n",
       " '26',\n",
       " '26 16',\n",
       " '26 حالة',\n",
       " '26 دجنبر',\n",
       " '26 سنة',\n",
       " '26 شتنبر',\n",
       " '26 غشت',\n",
       " '26 في',\n",
       " '26 من',\n",
       " '26 و27',\n",
       " '26 يوليوز',\n",
       " '26 يونيو',\n",
       " '260',\n",
       " '263',\n",
       " '265',\n",
       " '266',\n",
       " '267',\n",
       " '268',\n",
       " '269',\n",
       " '27',\n",
       " '27 أبريل',\n",
       " '27 حالة',\n",
       " '27 سنة',\n",
       " '27 غشت',\n",
       " '27 في',\n",
       " '27 مارس',\n",
       " '27 ماي',\n",
       " '27 مليار',\n",
       " '27 من',\n",
       " '27 يوليوز',\n",
       " '27 يونيو',\n",
       " '270',\n",
       " '2700',\n",
       " '275',\n",
       " '278',\n",
       " '279',\n",
       " '28',\n",
       " '28 أبريل',\n",
       " '28 حالة',\n",
       " '28 سنة',\n",
       " '28 شتنبر',\n",
       " '28 فبراير',\n",
       " '28 في',\n",
       " '28 ماي',\n",
       " '28 مباراة',\n",
       " '28 مليار',\n",
       " '28 من',\n",
       " '28 يناير',\n",
       " '28 يوليوز',\n",
       " '280',\n",
       " '2800',\n",
       " '289',\n",
       " '29',\n",
       " '29 حالة',\n",
       " '29 سنة',\n",
       " '29 شتنبر',\n",
       " '29 في',\n",
       " '29 مارس',\n",
       " '29 مليار',\n",
       " '29 من',\n",
       " '29 يوليوز',\n",
       " '29 يونيو',\n",
       " '290',\n",
       " '292',\n",
       " '292 يتعلق',\n",
       " '293',\n",
       " '296',\n",
       " '2964',\n",
       " '2965',\n",
       " '2966',\n",
       " '2967',\n",
       " '2968',\n",
       " '2969',\n",
       " '2970',\n",
       " '2m',\n",
       " '2ـ',\n",
       " '30',\n",
       " '30 20',\n",
       " '30 أبريل',\n",
       " '30 ألف',\n",
       " '30 بالمائة',\n",
       " '30 حالة',\n",
       " '30 سنة',\n",
       " '30 شتنبر',\n",
       " '30 شخصا',\n",
       " '30 عاما',\n",
       " '30 غشت',\n",
       " '30 في',\n",
       " '30 مارس',\n",
       " '30 مليار',\n",
       " '30 مليون',\n",
       " '30 من',\n",
       " '30 يوليوز',\n",
       " '30 يوما',\n",
       " '30 يونيو',\n",
       " '300',\n",
       " '300 ألف',\n",
       " '300 درهم',\n",
       " '300 شخص',\n",
       " '300 مليون',\n",
       " '300 و1300',\n",
       " '3000',\n",
       " '3000 درهم',\n",
       " '303',\n",
       " '305',\n",
       " '306',\n",
       " '31',\n",
       " '31 08',\n",
       " '31 أكتوبر',\n",
       " '31 حالة',\n",
       " '31 دجنبر',\n",
       " '31 سنة',\n",
       " '31 غشت',\n",
       " '31 في',\n",
       " '31 ماي',\n",
       " '31 مليار',\n",
       " '31 من',\n",
       " '31 نقطة',\n",
       " '31 يناير',\n",
       " '31 يوليوز',\n",
       " '310',\n",
       " '311',\n",
       " '32',\n",
       " '32 ألف',\n",
       " '32 حالة',\n",
       " '32 سنة',\n",
       " '32 في',\n",
       " '32 مليار',\n",
       " '32 من',\n",
       " '320',\n",
       " '33',\n",
       " '33 حالة',\n",
       " '33 سنة',\n",
       " '33 في',\n",
       " '33 مليار',\n",
       " '33 من',\n",
       " '330',\n",
       " '34',\n",
       " '34 حالة',\n",
       " '34 سنة',\n",
       " '34 في',\n",
       " '34 من',\n",
       " '34 نقطة',\n",
       " '340',\n",
       " '342',\n",
       " '349',\n",
       " '35',\n",
       " '35 20',\n",
       " '35 ألف',\n",
       " '35 سنة',\n",
       " '35 في',\n",
       " '35 مليار',\n",
       " '35 مليون',\n",
       " '35 من',\n",
       " '350',\n",
       " '3500',\n",
       " '36',\n",
       " '36 سنة',\n",
       " '36 في',\n",
       " '36 ملايين',\n",
       " '36 مليار',\n",
       " '360',\n",
       " '365',\n",
       " '37',\n",
       " '37 17',\n",
       " '37 حالة',\n",
       " '37 سنة',\n",
       " '37 في',\n",
       " '37 مليار',\n",
       " '370',\n",
       " '38',\n",
       " '38 17',\n",
       " '38 ألف',\n",
       " '38 حالة',\n",
       " '38 سنة',\n",
       " '38 في',\n",
       " '38 مباراة',\n",
       " '38 مليون',\n",
       " '38 نقطة',\n",
       " '38 وفاة',\n",
       " '380',\n",
       " '39',\n",
       " '39 حالة',\n",
       " '39 في',\n",
       " '394',\n",
       " '3ـ',\n",
       " '40',\n",
       " '40 000',\n",
       " '40 17',\n",
       " '40 ألف',\n",
       " '40 حالة',\n",
       " '40 سنة',\n",
       " '40 في',\n",
       " '40 مليار',\n",
       " '40 مليون',\n",
       " '40 من',\n",
       " '40 و45',\n",
       " '400',\n",
       " '400 ألف',\n",
       " '400 مليون',\n",
       " '4000',\n",
       " '4000 درهم',\n",
       " '406',\n",
       " '41',\n",
       " '41 حالة',\n",
       " '41 سنة',\n",
       " '41 في',\n",
       " '41 مليار',\n",
       " '416',\n",
       " '42',\n",
       " '42 حالة',\n",
       " '42 في',\n",
       " '42 من',\n",
       " '420',\n",
       " '425',\n",
       " '426',\n",
       " '43',\n",
       " '43 حالة',\n",
       " '43 سنة',\n",
       " '43 في',\n",
       " '43 من',\n",
       " '430',\n",
       " '44',\n",
       " '44 حالة',\n",
       " '44 في',\n",
       " '440',\n",
       " '45',\n",
       " '45 ألف',\n",
       " '45 سنة',\n",
       " '45 في',\n",
       " '45 مليار',\n",
       " '45 مليون',\n",
       " '45 من',\n",
       " '45 يوما',\n",
       " '450',\n",
       " '4500',\n",
       " '46',\n",
       " '46 19',\n",
       " '46 حالة',\n",
       " '46 سنة',\n",
       " '46 في',\n",
       " '47',\n",
       " '47 حالة',\n",
       " '47 في',\n",
       " '47 من',\n",
       " '48',\n",
       " '48 ساعة',\n",
       " '48 في',\n",
       " '480',\n",
       " '485',\n",
       " '49',\n",
       " '49 في',\n",
       " '499',\n",
       " '50',\n",
       " '50 ألف',\n",
       " '50 بالمائة',\n",
       " ...]"
      ]
     },
     "execution_count": 189,
     "metadata": {},
     "output_type": "execute_result"
    }
   ],
   "source": [
    "from sklearn.feature_extraction.text import CountVectorizer\n",
    "\n",
    "vectorizer = CountVectorizer(ngram_range=(2, 2), max_features=100000).fit(stories_df[\"story\"])\n",
    "vectorizer.get_feature_names()"
   ]
  },
  {
   "cell_type": "markdown",
   "metadata": {},
   "source": [
    "We can see that the numbers are dominating tokens results, we could simply define a token regex pattern `[ء-ي]+` to only capture arabic words instead of numbers."
   ]
  },
  {
   "cell_type": "code",
   "execution_count": 195,
   "metadata": {},
   "outputs": [
    {
     "data": {
      "text/plain": [
       "['آباء وأمهات',\n",
       " 'آباء وأولياء',\n",
       " 'آتية من',\n",
       " 'آثار أزمة',\n",
       " 'آثار الأزمة',\n",
       " 'آثار الجائحة',\n",
       " 'آثار الجفاف',\n",
       " 'آثار جائحة',\n",
       " 'آثار سلبية',\n",
       " 'آثار هذه',\n",
       " 'آثارا سلبية',\n",
       " 'آثارها السلبية',\n",
       " 'آثارها على',\n",
       " 'آجال الأداء',\n",
       " 'آجال معقولة',\n",
       " 'آجال مناسبة',\n",
       " 'آجالها القانونية',\n",
       " 'آخ ر',\n",
       " 'آخذة في',\n",
       " 'آخر أجل',\n",
       " 'آخر أشارت',\n",
       " 'آخر أعمال',\n",
       " 'آخر أفادت',\n",
       " 'آخر أن',\n",
       " 'آخر أوردت',\n",
       " 'آخر أي',\n",
       " 'آخر إلى',\n",
       " 'آخر إن',\n",
       " 'آخر اجتماع',\n",
       " 'آخر الإحصائيات',\n",
       " 'آخر اللمسات',\n",
       " 'آخر المطاف',\n",
       " 'آخر المعطيات',\n",
       " 'آخر تحديث',\n",
       " 'آخر تطورات',\n",
       " 'آخر حول',\n",
       " 'آخر حيث',\n",
       " 'آخر ذكر',\n",
       " 'آخر ذكرت',\n",
       " 'آخر رحلاتها',\n",
       " 'آخر رمق',\n",
       " 'آخر زيارة',\n",
       " 'آخر ساعة',\n",
       " 'آخر سنة',\n",
       " 'آخر سواء',\n",
       " 'آخر سوى',\n",
       " 'آخر ضمن',\n",
       " 'آخر على',\n",
       " 'آخر عن',\n",
       " 'آخر غير',\n",
       " 'آخر فإن',\n",
       " 'آخر في',\n",
       " 'آخر قال',\n",
       " 'آخر قالت',\n",
       " 'آخر كان',\n",
       " 'آخر كانت',\n",
       " 'آخر كتبت',\n",
       " 'آخر كما',\n",
       " 'آخر لأن',\n",
       " 'آخر لا',\n",
       " 'آخر لحظة',\n",
       " 'آخر لقاء',\n",
       " 'آخر له',\n",
       " 'آخر ما',\n",
       " 'آخر مباراة',\n",
       " 'آخر مذكرة',\n",
       " 'آخر مرة',\n",
       " 'آخر مع',\n",
       " 'آخر من',\n",
       " 'آخر موعد',\n",
       " 'آخر نشرت',\n",
       " 'آخر هذه',\n",
       " 'آخر هو',\n",
       " 'آخر وأضافت',\n",
       " 'آخر وبارتفاع',\n",
       " 'آخر وبـ',\n",
       " 'آخر وذلك',\n",
       " 'آخر ورد',\n",
       " 'آخر وفي',\n",
       " 'آخر وهو',\n",
       " 'آخر يتعلق',\n",
       " 'آخر يتمثل',\n",
       " 'آخر يرى',\n",
       " 'آخر يوم',\n",
       " 'آخرون أن',\n",
       " 'آخرون إلى',\n",
       " 'آخرون بجروح',\n",
       " 'آخرون على',\n",
       " 'آخرون في',\n",
       " 'آخرون من',\n",
       " 'آخرين إلى',\n",
       " 'آخرين على',\n",
       " 'آخرين في',\n",
       " 'آخرين من',\n",
       " 'آذانا صاغية',\n",
       " 'آسا الزاك',\n",
       " 'آسفي أن',\n",
       " 'آسفي بـ',\n",
       " 'آسفي حالة',\n",
       " 'آسفي حيث',\n",
       " 'آسفي سجلت',\n",
       " 'آسفي في',\n",
       " 'آسفي لكرة',\n",
       " 'آسفي من',\n",
       " 'آسفي منها',\n",
       " 'آسفي و',\n",
       " 'آسيا الوسطى',\n",
       " 'آسيا في',\n",
       " 'آفاق أرحب',\n",
       " 'آفاق جديدة',\n",
       " 'آفاق واعدة',\n",
       " 'آفاقا جديدة',\n",
       " 'آل إليه',\n",
       " 'آل الشيخ',\n",
       " 'آل ثاني',\n",
       " 'آل سعود',\n",
       " 'آل عمران',\n",
       " 'آل مكتوم',\n",
       " 'آل نهيان',\n",
       " 'آلات موسيقية',\n",
       " 'آلاف الأسر',\n",
       " 'آلاف الأشخاص',\n",
       " 'آلاف التلاميذ',\n",
       " 'آلاف السنين',\n",
       " 'آلاف الط',\n",
       " 'آلاف الطلبة',\n",
       " 'آلاف المغاربة',\n",
       " 'آلاف المواطنين',\n",
       " 'آلاف حالة',\n",
       " 'آلاف درهم',\n",
       " 'آلاف شخص',\n",
       " 'آلاف طن',\n",
       " 'آلاف من',\n",
       " 'آلاف منصب',\n",
       " 'آلاف و',\n",
       " 'آلة القانون',\n",
       " 'آلة الوتر',\n",
       " 'آلة لوتار',\n",
       " 'آلت إليه',\n",
       " 'آليات التعاون',\n",
       " 'آليات التواصل',\n",
       " 'آليات الدعم',\n",
       " 'آليات العمل',\n",
       " 'آليات جديدة',\n",
       " 'آلية المثمر',\n",
       " 'آلية ضمان',\n",
       " 'آم ن',\n",
       " 'آمل أن',\n",
       " 'آملا أن',\n",
       " 'آمن بها',\n",
       " 'آمنة ماء',\n",
       " 'آمنة من',\n",
       " 'آن الأوان',\n",
       " 'آن واحد',\n",
       " 'آنذاك إلى',\n",
       " 'آنذاك في',\n",
       " 'آنذاك كانت',\n",
       " 'آيت اعميرة',\n",
       " 'آيت الجيد',\n",
       " 'آيت الطالب',\n",
       " 'آيت الفقيه',\n",
       " 'آيت باحسين',\n",
       " 'آيت باه',\n",
       " 'آيت باها',\n",
       " 'آيت بها',\n",
       " 'آيت بوفرون',\n",
       " 'آيت حماد',\n",
       " 'آيت عباس',\n",
       " 'آيت عبد',\n",
       " 'آيت علو',\n",
       " 'آيت قاسي',\n",
       " 'آيت ملول',\n",
       " 'آيت منا',\n",
       " 'آيت منصور',\n",
       " 'آيت ميلك',\n",
       " 'آيت يدر',\n",
       " 'أ ا',\n",
       " 'أ ب',\n",
       " 'أ ت',\n",
       " 'أ ج',\n",
       " 'أ جريت',\n",
       " 'أ ح',\n",
       " 'أ خ',\n",
       " 'أ خرى',\n",
       " 'أ ر',\n",
       " 'أ س',\n",
       " 'أ ش',\n",
       " 'أ ص',\n",
       " 'أ ع',\n",
       " 'أ عد',\n",
       " 'أ علن',\n",
       " 'أ غل',\n",
       " 'أ ف',\n",
       " 'أ في',\n",
       " 'أ ك',\n",
       " 'أ ل',\n",
       " 'أ لا',\n",
       " 'أ م',\n",
       " 'أ ن',\n",
       " 'أ و',\n",
       " 'أ ور',\n",
       " 'أ وقف',\n",
       " 'أ ي',\n",
       " 'أئمة العلم',\n",
       " 'أب الفنون',\n",
       " 'أب دى',\n",
       " 'أبان عن',\n",
       " 'أبان عنه',\n",
       " 'أبان عنها',\n",
       " 'أبانت عن',\n",
       " 'أبانت عنه',\n",
       " 'أبانت عنها',\n",
       " 'أبانوا عن',\n",
       " 'أبانوا عنه',\n",
       " 'أبحث عن',\n",
       " 'أبد ا',\n",
       " 'أبدا أن',\n",
       " 'أبدا على',\n",
       " 'أبدا في',\n",
       " 'أبدع في',\n",
       " 'أبدعوا في',\n",
       " 'أبدى مقاومة',\n",
       " 'أبدى نادي',\n",
       " 'أبرز أن',\n",
       " 'أبرز الأحداث',\n",
       " 'أبرز الأسماء',\n",
       " 'أبرز التحديات',\n",
       " 'أبرز اللاعبين',\n",
       " 'أبرز المهاجمين',\n",
       " 'أبرز الوجوه',\n",
       " 'أبرز رئيس',\n",
       " 'أبرز لاعبي',\n",
       " 'أبرز ما',\n",
       " 'أبرزت أن',\n",
       " 'أبريل أن',\n",
       " 'أبريل إلى',\n",
       " 'أبريل الجاري',\n",
       " 'أبريل الذي',\n",
       " 'أبريل القادم',\n",
       " 'أبريل الماضي',\n",
       " 'أبريل المقبل',\n",
       " 'أبريل المنصرم',\n",
       " 'أبريل في',\n",
       " 'أبريل من',\n",
       " 'أبريل و',\n",
       " 'أبريل وماي',\n",
       " 'أبطال آسيا',\n",
       " 'أبطال أفريقيا',\n",
       " 'أبطال أوروبا',\n",
       " 'أبطال إفريقيا',\n",
       " 'أبطال التحدي',\n",
       " 'أبعاد الهوية',\n",
       " 'أبعد تقدير',\n",
       " 'أبعد ما',\n",
       " 'أبعد من',\n",
       " 'أبناء البلد',\n",
       " 'أبناء الجالية',\n",
       " 'أبناء الشعب',\n",
       " 'أبناء المدينة',\n",
       " 'أبناء المغاربة',\n",
       " 'أبناء المنطقة',\n",
       " 'أبناء المهاجرين',\n",
       " 'أبناء الوطن',\n",
       " 'أبناء سوس',\n",
       " 'أبناء مدينة',\n",
       " 'أبناء هذا',\n",
       " 'أبنائها إلى',\n",
       " 'أبنائها من',\n",
       " 'أبنائهم في',\n",
       " 'أبنائهم من',\n",
       " 'أبو البنات',\n",
       " 'أبو الغالي',\n",
       " 'أبو القاسم',\n",
       " 'أبو الوفا',\n",
       " 'أبو بكر',\n",
       " 'أبو زيد',\n",
       " 'أبو ظبي',\n",
       " 'أبو عبد',\n",
       " 'أبو علي',\n",
       " 'أبو نصر',\n",
       " 'أبواب الضيعات',\n",
       " 'أبواب الفجر',\n",
       " 'أبواب المؤسسات',\n",
       " 'أبواب المساجد',\n",
       " 'أبواب موصدة',\n",
       " 'أبوابه في',\n",
       " 'أبوابها أمام',\n",
       " 'أبوابها في',\n",
       " 'أبودرار رئيس',\n",
       " 'أبودرار في',\n",
       " 'أبوظبي الرياضية',\n",
       " 'أبوظبي للإعلام',\n",
       " 'أبوين مغربيين',\n",
       " 'أبى إلا',\n",
       " 'أبي الجعد',\n",
       " 'أبي العلاء',\n",
       " 'أبي بكر',\n",
       " 'أبي حنيفة',\n",
       " 'أبي رقراق',\n",
       " 'أبي زيد',\n",
       " 'أبي طالب',\n",
       " 'أبيب إلى',\n",
       " 'أبيض من',\n",
       " 'أتاحت له',\n",
       " 'أتباع الأديان',\n",
       " 'أتحدث عن',\n",
       " 'أتلتيك تطوان',\n",
       " 'أتلتيكو مدريد',\n",
       " 'أتليتكو مدريد',\n",
       " 'أتمنى أن',\n",
       " 'أتمنى من',\n",
       " 'أتوجه إلى',\n",
       " 'أتوفر على',\n",
       " 'أتى على',\n",
       " 'أتيحت له',\n",
       " 'أث ر',\n",
       " 'أث رت',\n",
       " 'أثار استياء',\n",
       " 'أثار الانتباه',\n",
       " 'أثار الجدل',\n",
       " 'أثار الكثير',\n",
       " 'أثار انتباه',\n",
       " 'أثار جدلا',\n",
       " 'أثار حفيظة',\n",
       " 'أثار ضجة',\n",
       " 'أثار غضب',\n",
       " 'أثار غضبا',\n",
       " 'أثار قرار',\n",
       " 'أثار موجة',\n",
       " 'أثارت استياء',\n",
       " 'أثارت الانتباه',\n",
       " 'أثارت الكثير',\n",
       " 'أثارت توجسا',\n",
       " 'أثارت جدلا',\n",
       " 'أثبت أن',\n",
       " 'أثبتت أن',\n",
       " 'أثبتت التحاليل',\n",
       " 'أثر إيجابي',\n",
       " 'أثر بشكل',\n",
       " 'أثر سلبا',\n",
       " 'أثر سلبي',\n",
       " 'أثر على',\n",
       " 'أثر في',\n",
       " 'أثر لها',\n",
       " 'أثرا في',\n",
       " 'أثرت بشكل',\n",
       " 'أثرت على',\n",
       " 'أثرت في',\n",
       " 'أثرياء الحرب',\n",
       " 'أثمان المحروقات',\n",
       " 'أثمان المواد',\n",
       " 'أثناء الأزمة',\n",
       " 'أثناء الاعتقال',\n",
       " 'أثناء التحقيق',\n",
       " 'أثناء الحجر',\n",
       " 'أثناء الحرب',\n",
       " 'أثناء حديثه',\n",
       " 'أثناء عمليات',\n",
       " 'أثناء عملية',\n",
       " 'أثناء فترة',\n",
       " 'أثناء مرحلة',\n",
       " 'أثناء مزاولة',\n",
       " 'أثناء مزاولتهم',\n",
       " 'أثناء وجودهم',\n",
       " 'أثير الإذاعة',\n",
       " 'أثير حول',\n",
       " 'أثيرت في',\n",
       " 'أج دير',\n",
       " 'أج ل',\n",
       " 'أج لت',\n",
       " 'أجاب خالد',\n",
       " 'أجاكس أمستردام',\n",
       " 'أجدير الذي',\n",
       " 'أجدير سنة',\n",
       " 'أجراها الفريق',\n",
       " 'أجراها مع',\n",
       " 'أجراها نادي',\n",
       " 'أجرة من',\n",
       " 'أجرته معه',\n",
       " 'أجريت المباراة',\n",
       " 'أجريت على',\n",
       " 'أجريت في',\n",
       " 'أجريت له',\n",
       " 'أجزاء أخرى',\n",
       " 'أجزاء من',\n",
       " 'أجسادهم من',\n",
       " 'أجل أداء',\n",
       " 'أجل أقصاه',\n",
       " 'أجل أن',\n",
       " 'أجل إتمام',\n",
       " 'أجل إثبات',\n",
       " 'أجل إجراء',\n",
       " 'أجل إحداث',\n",
       " 'أجل إخراج',\n",
       " 'أجل إخضاعها',\n",
       " 'أجل إدماج',\n",
       " 'أجل إرساء',\n",
       " 'أجل إطلاق',\n",
       " 'أجل إعادة',\n",
       " 'أجل إعداد',\n",
       " 'أجل إعطاء',\n",
       " 'أجل إقرار',\n",
       " 'أجل إلغاء',\n",
       " 'أجل إلياس',\n",
       " 'أجل إنجاح',\n",
       " 'أجل إنجاز',\n",
       " 'أجل إنعاش',\n",
       " 'أجل إنقاذ',\n",
       " 'أجل إنهاء',\n",
       " 'أجل إيجاد',\n",
       " 'أجل إيصال',\n",
       " 'أجل إيقاف',\n",
       " 'أجل اتخاذ',\n",
       " 'أجل احتواء',\n",
       " 'أجل استئناف',\n",
       " 'أجل استخلاص',\n",
       " 'أجل استرجاع',\n",
       " 'أجل استعادة',\n",
       " 'أجل استقبال',\n",
       " 'أجل استقلال',\n",
       " 'أجل استكمال',\n",
       " 'أجل استمرار',\n",
       " 'أجل استيفاء',\n",
       " 'أجل اعتماد',\n",
       " 'أجل اقتناء',\n",
       " 'أجل الأخوة',\n",
       " 'أجل الأمازيغية',\n",
       " 'أجل الإدماج',\n",
       " 'أجل الإنسانية',\n",
       " 'أجل الاتجار',\n",
       " 'أجل الاستثمار',\n",
       " 'أجل الاستجابة',\n",
       " 'أجل الاستجمام',\n",
       " 'أجل الاستفادة',\n",
       " 'أجل الاستقلال',\n",
       " 'أجل الاستماع',\n",
       " 'أجل الاعتراف',\n",
       " 'أجل الالتحاق',\n",
       " 'أجل الالتزام',\n",
       " 'أجل الانفتاح',\n",
       " 'أجل البت',\n",
       " 'أجل البحث',\n",
       " 'أجل البقاء',\n",
       " 'أجل الت',\n",
       " 'أجل التأكد',\n",
       " 'أجل التحسيس',\n",
       " 'أجل التحضير',\n",
       " 'أجل التحقيق',\n",
       " 'أجل التخصص',\n",
       " 'أجل التخفيف',\n",
       " 'أجل التداول',\n",
       " 'أجل التدخل',\n",
       " 'أجل التصدي',\n",
       " 'أجل التطبيق',\n",
       " 'أجل التعايش',\n",
       " 'أجل التعبير',\n",
       " 'أجل التعرف',\n",
       " 'أجل التعريف',\n",
       " 'أجل التغلب',\n",
       " 'أجل التنسيق',\n",
       " 'أجل التنقل',\n",
       " 'أجل التنمية',\n",
       " 'أجل التواصل',\n",
       " 'أجل التوصل',\n",
       " 'أجل الجنوب',\n",
       " 'أجل الحد',\n",
       " 'أجل الحرية',\n",
       " 'أجل الحسم',\n",
       " 'أجل الحصول',\n",
       " 'أجل الحفاظ',\n",
       " 'أجل الحق',\n",
       " 'أجل الحقيقة',\n",
       " 'أجل الخروج',\n",
       " 'أجل الخضوع',\n",
       " 'أجل الدخول',\n",
       " 'أجل الدراسة',\n",
       " 'أجل الدفاع',\n",
       " 'أجل الدفع',\n",
       " 'أجل الديمقراطية',\n",
       " 'أجل الرفع',\n",
       " 'أجل الرقي',\n",
       " 'أجل السرقة',\n",
       " 'أجل السلام',\n",
       " 'أجل السماح',\n",
       " 'أجل السياحة',\n",
       " 'أجل السيطرة',\n",
       " 'أجل الشروع',\n",
       " 'أجل الظفر',\n",
       " 'أجل العمل',\n",
       " 'أجل العودة',\n",
       " 'أجل الفوز',\n",
       " 'أجل القضاء',\n",
       " 'أجل القيام',\n",
       " 'أجل الكشف',\n",
       " 'أجل اللغة',\n",
       " 'أجل المساعدة',\n",
       " 'أجل المساهمة',\n",
       " 'أجل المشاركة',\n",
       " 'أجل المصادقة',\n",
       " 'أجل المطالبة',\n",
       " 'أجل المنسوب',\n",
       " 'أجل المواطنة',\n",
       " 'أجل النهوض',\n",
       " 'أجل الوصول',\n",
       " 'أجل الوطن',\n",
       " 'أجل الوقاية',\n",
       " 'أجل الوقوف',\n",
       " 'أجل انتزاع',\n",
       " 'أجل بحث',\n",
       " 'أجل بدء',\n",
       " 'أجل بلوغ',\n",
       " 'أجل بناء',\n",
       " 'أجل تأسيس',\n",
       " 'أجل تأطير',\n",
       " 'أجل تأمين',\n",
       " 'أجل تجاوز',\n",
       " 'أجل تجديد',\n",
       " 'أجل تجويد',\n",
       " 'أجل تحديد',\n",
       " 'أجل تحسين',\n",
       " 'أجل تحفيز',\n",
       " 'أجل تحقيق',\n",
       " 'أجل تخصيص',\n",
       " 'أجل تخفيض',\n",
       " 'أجل تخفيف',\n",
       " 'أجل تدارس',\n",
       " 'أجل تدارك',\n",
       " 'أجل تدبير',\n",
       " 'أجل ترسيخ',\n",
       " 'أجل ترويج',\n",
       " 'أجل تسجيل',\n",
       " 'أجل تسريع',\n",
       " 'أجل تسهيل',\n",
       " 'أجل تسوية',\n",
       " 'أجل تشجيع',\n",
       " 'أجل تطبيق',\n",
       " 'أجل تطوير',\n",
       " 'أجل تطويق',\n",
       " 'أجل تعبئة',\n",
       " 'أجل تعديل',\n",
       " 'أجل تعزيز',\n",
       " 'أجل تعميق',\n",
       " 'أجل تغطية',\n",
       " 'أجل تغيير',\n",
       " 'أجل تفادي',\n",
       " 'أجل تفعيل',\n",
       " 'أجل تقديم',\n",
       " 'أجل تقريب',\n",
       " 'أجل تقليص',\n",
       " 'أجل تقوية',\n",
       " 'أجل تقييم',\n",
       " 'أجل تكريس',\n",
       " 'أجل تكوين',\n",
       " 'أجل تلقي',\n",
       " 'أجل تمرير',\n",
       " 'أجل تمكين',\n",
       " 'أجل تمكينهم',\n",
       " 'أجل تمويل',\n",
       " 'أجل تنزيل',\n",
       " 'أجل تنظيم',\n",
       " 'أجل تنفيذ',\n",
       " 'أجل تهمة',\n",
       " 'أجل توحيد',\n",
       " 'أجل توسيع',\n",
       " 'أجل توفير',\n",
       " 'أجل توقيف',\n",
       " 'أجل توقيفه',\n",
       " 'أجل ثمانية',\n",
       " 'أجل جعل',\n",
       " 'أجل جمع',\n",
       " 'أجل جناية',\n",
       " 'أجل حرية',\n",
       " 'أجل حسم',\n",
       " 'أجل حضور',\n",
       " 'أجل حقوق',\n",
       " 'أجل حل',\n",
       " 'أجل حماية',\n",
       " 'أجل خدمة',\n",
       " 'أجل خفض',\n",
       " 'أجل خلق',\n",
       " 'أجل خوض',\n",
       " 'أجل دراسة',\n",
       " 'أجل دعم',\n",
       " 'أجل ذلك',\n",
       " 'أجل ربح',\n",
       " 'أجل رد',\n",
       " 'أجل رفع',\n",
       " 'أجل زجر',\n",
       " 'أجل ستة',\n",
       " 'أجل سد',\n",
       " 'أجل سلامة',\n",
       " 'أجل شراء',\n",
       " 'أجل صياغة',\n",
       " 'أجل ضمان',\n",
       " 'أجل عالم',\n",
       " 'أجل عدم',\n",
       " 'أجل عرض',\n",
       " 'أجل عقد',\n",
       " 'أجل عودة',\n",
       " 'أجل غير',\n",
       " 'أجل فتح',\n",
       " 'أجل فرض',\n",
       " 'أجل فلسطين',\n",
       " 'أجل فهم',\n",
       " 'أجل قضاء',\n",
       " 'أجل قضية',\n",
       " 'أجل كتابة',\n",
       " 'أجل كسب',\n",
       " 'أجل كشف',\n",
       " 'أجل لا',\n",
       " 'أجل م',\n",
       " 'أجل ما',\n",
       " 'أجل مباشرة',\n",
       " 'أجل متابعة',\n",
       " 'أجل محاربة',\n",
       " 'أجل محاصرة',\n",
       " 'أجل محاولة',\n",
       " 'أجل مدرسة',\n",
       " 'أجل مراقبة',\n",
       " 'أجل مساعدة',\n",
       " 'أجل مساعدتها',\n",
       " 'أجل مساعدتهم',\n",
       " 'أجل مستقبل',\n",
       " 'أجل معالجة',\n",
       " 'أجل معرفة',\n",
       " 'أجل معقول',\n",
       " 'أجل مغرب',\n",
       " 'أجل مكافحة',\n",
       " 'أجل مناقشة',\n",
       " 'أجل منع',\n",
       " 'أجل مواجهة',\n",
       " 'أجل مواصلة',\n",
       " 'أجل مواكبة',\n",
       " 'أجل نشر',\n",
       " 'أجل نقل',\n",
       " 'أجل نيل',\n",
       " 'أجل هذا',\n",
       " 'أجل وضع',\n",
       " 'أجل وقف',\n",
       " 'أجل يوما',\n",
       " 'أجلت النظر',\n",
       " 'أجمعت على',\n",
       " 'أجمل قائلا',\n",
       " 'أجنبي خاضعة',\n",
       " 'أجنبي في',\n",
       " 'أجنبية بغاية',\n",
       " 'أجنبية في',\n",
       " 'أجندات خارجية',\n",
       " 'أجهزة الأمن',\n",
       " 'أجهزة التحكيم',\n",
       " 'أجهزة التنفس',\n",
       " 'أجهزة الدولة',\n",
       " 'أجهزة المجلس',\n",
       " 'أجهزة المخابرات',\n",
       " 'أجهزة تنفس',\n",
       " 'أجهضت عناصر',\n",
       " 'أجواء احتفالية',\n",
       " 'أجواء التباري',\n",
       " 'أجواء التداريب',\n",
       " 'أجواء الحجر',\n",
       " 'أجواء من',\n",
       " 'أجور العاملين',\n",
       " 'أجور العمال',\n",
       " 'أجور الموظفين',\n",
       " 'أجورهم الشهرية',\n",
       " 'أجيال من',\n",
       " 'أجيالا من',\n",
       " 'أحادي الجانب',\n",
       " 'أحادية الجانب',\n",
       " 'أحاديث في',\n",
       " 'أحال على',\n",
       " 'أحالت المصلحة',\n",
       " 'أحالت على',\n",
       " 'أحالت عناصر',\n",
       " 'أحالت مصالح',\n",
       " 'أحاول أن',\n",
       " 'أحايين كثيرة',\n",
       " 'أحب إليه',\n",
       " 'أحد أبرز',\n",
       " 'أحد أبناء',\n",
       " 'أحد أشهر',\n",
       " 'أحد أطراف',\n",
       " 'أحد أعضاء',\n",
       " 'أحد أعمدة',\n",
       " 'أحد أعوان',\n",
       " 'أحد أفراد',\n",
       " 'أحد أفرادها',\n",
       " 'أحد أفضل',\n",
       " 'أحد أكبر',\n",
       " 'أحد أكثر',\n",
       " 'أحد أن',\n",
       " 'أحد أهم',\n",
       " 'أحد ا',\n",
       " 'أحد الأحياء',\n",
       " 'أحد الأسباب',\n",
       " 'أحد الأشخاص',\n",
       " 'أحد الأطباء',\n",
       " 'أحد الأندية',\n",
       " 'أحد البلدان',\n",
       " 'أحد الصحافيين',\n",
       " 'أحد العالقين',\n",
       " 'أحد العناصر',\n",
       " 'أحد الفاعلين',\n",
       " 'أحد الفنادق',\n",
       " 'أحد القطاعات',\n",
       " 'أحد اللاعبين',\n",
       " 'أحد المحتجين',\n",
       " 'أحد المسؤولين',\n",
       " 'أحد المستثمرين',\n",
       " 'أحد المستشفيات',\n",
       " 'أحد المشتبه',\n",
       " 'أحد المغاربة',\n",
       " 'أحد المنازل',\n",
       " 'أحد المواطنين',\n",
       " 'أحد المواقع',\n",
       " 'أحد رموز',\n",
       " 'أحد رواد',\n",
       " 'أحد سكان',\n",
       " 'أحد عشر',\n",
       " 'أحد على',\n",
       " 'أحد عناصر',\n",
       " 'أحد فنادق',\n",
       " 'أحد في',\n",
       " 'أحد قادة',\n",
       " 'أحد كبار',\n",
       " 'أحد كما',\n",
       " 'أحد لاعبيه',\n",
       " 'أحد مؤسسي',\n",
       " 'أحد مراكز',\n",
       " 'أحد مستشفيات',\n",
       " 'أحد مكونات',\n",
       " 'أحد من',\n",
       " 'أحد موظفي',\n",
       " 'أحد نواب',\n",
       " 'أحد ولا',\n",
       " 'أحد يعرف',\n",
       " 'أحد يمكن',\n",
       " 'أحدا من',\n",
       " 'أحداث الحسيمة',\n",
       " 'أحداث الفيلم',\n",
       " 'أحداث المسلسل',\n",
       " 'أحداث بلا',\n",
       " 'أحداث تاريخية',\n",
       " 'أحداث شتنبر',\n",
       " 'أحداث مارس',\n",
       " 'أحداثه حول',\n",
       " 'أحداثه في',\n",
       " 'أحداد إلى',\n",
       " 'أحدث التقنيات',\n",
       " 'أحدثت خلية',\n",
       " 'أحدهم في',\n",
       " 'أحدهم من',\n",
       " 'أحدهما من',\n",
       " 'أحر التعازي',\n",
       " 'أحر التهاني',\n",
       " 'أحر تعازينا',\n",
       " 'أحرص على',\n",
       " 'أحزاب أخرى',\n",
       " 'أحزاب الأغلبية',\n",
       " 'أحزاب التحالف',\n",
       " 'أحزاب المعارضة',\n",
       " 'أحزاب اليسار',\n",
       " 'أحزاب سياسية',\n",
       " 'أحزاب مغربية',\n",
       " 'أحزمة ناسفة',\n",
       " 'أحسن الأحوال',\n",
       " 'أحسن الظروف',\n",
       " 'أحسن الله',\n",
       " 'أحسن تمثيل',\n",
       " 'أحسن ما',\n",
       " 'أحسن من',\n",
       " 'أحسن وجه',\n",
       " 'أحصت الجهة',\n",
       " 'أحصت جهة',\n",
       " 'أحصت حالة',\n",
       " 'أحصل على',\n",
       " 'أحق ما',\n",
       " 'أحقية الشراء',\n",
       " 'أحكام الدستور',\n",
       " 'أحكام الفصل',\n",
       " 'أحكام القانون',\n",
       " 'أحكام المادة',\n",
       " 'أحكام خاصة',\n",
       " 'أحكام قانون',\n",
       " 'أحكام قضائية',\n",
       " 'أحكام قيمة',\n",
       " 'أحلام غير',\n",
       " 'أحلام مستغانمي',\n",
       " 'أحمد أحمد',\n",
       " 'أحمد أرحموش',\n",
       " 'أحمد أريوش',\n",
       " 'أحمد أزناك',\n",
       " 'أحمد أمنتاك',\n",
       " 'أحمد التوفيق',\n",
       " 'أحمد الحليمي',\n",
       " 'أحمد الدافري',\n",
       " 'أحمد الدغرني',\n",
       " 'أحمد الريسوني',\n",
       " 'أحمد الزفزافي',\n",
       " 'أحمد الطرنباطي',\n",
       " 'أحمد الطيب',\n",
       " 'أحمد العلوي',\n",
       " 'أحمد الله',\n",
       " 'أحمد بادوج',\n",
       " 'أحمد بلافريج',\n",
       " 'أحمد بن',\n",
       " 'أحمد بوفكران',\n",
       " 'أحمد بوكوس',\n",
       " 'أحمد رئيس',\n",
       " 'أحمد راضي',\n",
       " 'أحمد رضا',\n",
       " 'أحمد زاهد',\n",
       " 'أحمد زكي',\n",
       " 'أحمد شراك',\n",
       " 'أحمد شوقي',\n",
       " 'أحمد صابر',\n",
       " 'أحمد عبادي',\n",
       " 'أحمد عصيد',\n",
       " 'أحمد عيدون',\n",
       " 'أحمد في',\n",
       " 'أحمد مركوش',\n",
       " 'أحمد ولد',\n",
       " 'أحمد ويحمان',\n",
       " 'أحواش في',\n",
       " 'أحياء العاصمة',\n",
       " 'أحياء المدينة',\n",
       " 'أحياء مدينة',\n",
       " 'أحياء وشوارع',\n",
       " 'أحيان ا',\n",
       " 'أحيان كثيرة',\n",
       " 'أحيانا أخرى',\n",
       " 'أحيانا إلى',\n",
       " 'أحيانا بباقي',\n",
       " 'أحيانا رعدية',\n",
       " 'أحيانا في',\n",
       " 'أحيانا من',\n",
       " 'أحيل على',\n",
       " 'أحيلت على',\n",
       " 'أخبار الحوادث',\n",
       " 'أخبار اليوم',\n",
       " 'أخبار زائفة',\n",
       " 'أخبار عن',\n",
       " 'أخبار غير',\n",
       " 'أخبار كاذبة',\n",
       " 'أخذ الاحتياطات',\n",
       " 'أخذ بعين',\n",
       " 'أخذ رأي',\n",
       " 'أخذ ورد',\n",
       " 'أخذا بعين',\n",
       " 'أخذت بعين',\n",
       " 'أخذت على',\n",
       " 'أخذت في',\n",
       " 'أخذنا بعين',\n",
       " 'أخذها بعين',\n",
       " 'أخرباش رئيسة',\n",
       " 'أخرج من',\n",
       " 'أخرى أشار',\n",
       " 'أخرى أكثر',\n",
       " 'أخرى أكد',\n",
       " 'أخرى أما',\n",
       " 'أخرى أمام',\n",
       " 'أخرى أن',\n",
       " 'أخرى أو',\n",
       " 'أخرى أوضح',\n",
       " 'أخرى إذ',\n",
       " 'أخرى إلا',\n",
       " 'أخرى إلى',\n",
       " 'أخرى إن',\n",
       " 'أخرى اعتبر',\n",
       " 'أخرى التي',\n",
       " 'أخرى بعد',\n",
       " 'أخرى بعيدة',\n",
       " 'أخرى بل',\n",
       " 'أخرى بين',\n",
       " 'أخرى بينما',\n",
       " 'أخرى تتعلق',\n",
       " 'أخرى تحمل',\n",
       " 'أخرى ترتبط',\n",
       " 'أخرى تم',\n",
       " 'أخرى تنتظر',\n",
       " 'أخرى تهم',\n",
       " 'أخرى جديدة',\n",
       " 'أخرى حتى',\n",
       " 'أخرى حسب',\n",
       " 'أخرى حول',\n",
       " 'أخرى حيث',\n",
       " 'أخرى خاصة',\n",
       " 'أخرى خلال',\n",
       " 'أخرى داخل',\n",
       " 'أخرى دون',\n",
       " 'أخرى ذات',\n",
       " 'أخرى عبر',\n",
       " 'أخرى عديدة',\n",
       " 'أخرى على',\n",
       " 'أخرى عن',\n",
       " 'أخرى غير',\n",
       " 'أخرى فإن',\n",
       " 'أخرى فقد',\n",
       " 'أخرى في',\n",
       " 'أخرى قال',\n",
       " 'أخرى قبل',\n",
       " 'أخرى قد',\n",
       " 'أخرى كان',\n",
       " 'أخرى كانت',\n",
       " 'أخرى كثيرة',\n",
       " 'أخرى كما',\n",
       " 'أخرى لأن',\n",
       " 'أخرى لا',\n",
       " 'أخرى لكن',\n",
       " 'أخرى لم',\n",
       " 'أخرى لها',\n",
       " 'أخرى ما',\n",
       " 'أخرى مثل',\n",
       " 'أخرى مرتبطة',\n",
       " 'أخرى مشيرا',\n",
       " 'أخرى مع',\n",
       " 'أخرى معتبرا',\n",
       " 'أخرى من',\n",
       " 'أخرى منها',\n",
       " 'أخرى هذه',\n",
       " 'أخرى هي',\n",
       " 'أخرى وأضاف',\n",
       " 'أخرى وأوضح',\n",
       " 'أخرى وذلك',\n",
       " 'أخرى وفي',\n",
       " 'أخرى وقال',\n",
       " 'أخرى وقد',\n",
       " 'أخرى ولا',\n",
       " 'أخرى ومن',\n",
       " 'أخرى وهذا',\n",
       " 'أخرى وهو',\n",
       " 'أخرى وهي',\n",
       " 'أخصائي في',\n",
       " 'أخطر ما',\n",
       " 'أخطر من',\n",
       " 'أخلاقيات الصحافة',\n",
       " 'أخلاقيات المهنة',\n",
       " 'أخلاقيات مهنة',\n",
       " 'أخنوش أن',\n",
       " 'أخنوش رئيس',\n",
       " 'أخنوش في',\n",
       " 'أخنوش وزير',\n",
       " 'أخير ا',\n",
       " 'أخيرا إلى',\n",
       " 'أخيرا من',\n",
       " 'أد ت',\n",
       " 'أد وا',\n",
       " 'أد ى',\n",
       " 'أداء الأقساط',\n",
       " 'أداء الجماعات',\n",
       " 'أداء الضريبة',\n",
       " 'أداء الغرامة',\n",
       " 'أداء المؤسسات',\n",
       " 'أداء المستحقات',\n",
       " 'أداء الواجب',\n",
       " 'أداء الواجبات',\n",
       " 'أداء بعض',\n",
       " 'أداء جيد',\n",
       " 'أداء رسوم',\n",
       " 'أداء رواتب',\n",
       " 'أداء شركة',\n",
       " 'أداء صلاة',\n",
       " 'أداء عملها',\n",
       " 'أداء غرامة',\n",
       " 'أداء في',\n",
       " 'أداء قطاع',\n",
       " 'أداء لافتا',\n",
       " 'أداء ما',\n",
       " 'أداء مبالغ',\n",
       " 'أداء مبلغ',\n",
       " 'أداء متميزا',\n",
       " 'أداء مستحقات',\n",
       " 'أداء مهامها',\n",
       " 'أداء مهامهم',\n",
       " 'أداء هذه',\n",
       " 'أداء واجبات',\n",
       " 'أداؤه السلبي',\n",
       " 'أداؤه منذ',\n",
       " 'أداسكو أن',\n",
       " 'أداسكو عضو',\n",
       " 'أداسكو في',\n",
       " 'أدب الرحلة',\n",
       " 'أدت إلى',\n",
       " 'أدخلت على',\n",
       " 'أدل على',\n",
       " 'أدلت بها',\n",
       " 'أدلى به',\n",
       " 'أدلى بها',\n",
       " 'أدنى مستوى',\n",
       " 'أدنى من',\n",
       " 'أدى إلى',\n",
       " 'أديب السلاوي',\n",
       " 'أديس أبابا',\n",
       " 'أذكر أن',\n",
       " 'أذنا صاغية',\n",
       " 'أر ان',\n",
       " 'أر خ',\n",
       " 'أراد أن',\n",
       " 'أراضي الساكنة',\n",
       " 'أراضي القبائل',\n",
       " ...]"
      ]
     },
     "execution_count": 195,
     "metadata": {},
     "output_type": "execute_result"
    }
   ],
   "source": [
    "vectorizer2 = CountVectorizer(ngram_range=(2, 2), max_features=100000, token_pattern=r'[ء-ي]+').fit(stories_df[\"story\"])\n",
    "vectorizer2.get_feature_names()"
   ]
  },
  {
   "cell_type": "code",
   "execution_count": 212,
   "metadata": {},
   "outputs": [],
   "source": [
    "X = vectorizer2.transform(stories_df[\"story\"])\n",
    "bigrams_df = pd.DataFrame()\n",
    "bigrams_df[\"Bigrams\"] = vectorizer2.get_feature_names()\n",
    "bigrams_df[\"Count\"] = np.ravel(np.sum(X, axis=0))"
   ]
  },
  {
   "cell_type": "code",
   "execution_count": 218,
   "metadata": {},
   "outputs": [
    {
     "name": "stdout",
     "output_type": "stream",
     "text": [
      "|    | Bigrams      |   Count |\n",
      "|---:|:-------------|--------:|\n",
      "|  0 | آباء وأمهات  |      50 |\n",
      "|  1 | آباء وأولياء |      46 |\n",
      "|  2 | آتية من      |      12 |\n",
      "|  3 | آثار أزمة    |      10 |\n",
      "|  4 | آثار الأزمة  |      15 |\n",
      "|  5 | آثار الجائحة |      14 |\n",
      "|  6 | آثار الجفاف  |      10 |\n",
      "|  7 | آثار جائحة   |      19 |\n",
      "|  8 | آثار سلبية   |      12 |\n",
      "|  9 | آثار هذه     |       7 |\n"
     ]
    }
   ],
   "source": [
    "bigrams_df.head(10)"
   ]
  },
  {
   "cell_type": "markdown",
   "metadata": {},
   "source": [
    "We can see the count of bigrams occurence in stories."
   ]
  }
 ],
 "metadata": {
  "kernelspec": {
   "display_name": "Python 3",
   "language": "python",
   "name": "python3"
  },
  "language_info": {
   "codemirror_mode": {
    "name": "ipython",
    "version": 3
   },
   "file_extension": ".py",
   "mimetype": "text/x-python",
   "name": "python",
   "nbconvert_exporter": "python",
   "pygments_lexer": "ipython3",
   "version": "3.8.3"
  },
  "vscode": {
   "interpreter": {
    "hash": "ac37504ca4b6dd3f0108639041133c56ed9c809659c702a449db6578dee51d63"
   }
  }
 },
 "nbformat": 4,
 "nbformat_minor": 2
}
